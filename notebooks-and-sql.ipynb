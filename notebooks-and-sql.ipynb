{
 "cells": [
  {
   "cell_type": "markdown",
   "id": "735eeb9d-c39c-4050-b26b-ddba586f763f",
   "metadata": {},
   "source": [
    "We've heard from users that they often use Jupyter for prototyping, and then the move to SQL files for deployment. We could automate that step.\n",
    "\n",
    "To enable this, we run:\n",
    "\n",
    "```python\n",
    "%config SqlMagic.persist_snippets = True\n",
    "```"
   ]
  },
  {
   "cell_type": "code",
   "execution_count": 1,
   "id": "8a321097-e0d1-4135-9864-28dcab41e2a1",
   "metadata": {
    "execution": {
     "iopub.execute_input": "2023-07-20T15:56:52.869736Z",
     "iopub.status.busy": "2023-07-20T15:56:52.869435Z",
     "iopub.status.idle": "2023-07-20T15:56:54.509445Z",
     "shell.execute_reply": "2023-07-20T15:56:54.509113Z",
     "shell.execute_reply.started": "2023-07-20T15:56:52.869706Z"
    },
    "tags": []
   },
   "outputs": [],
   "source": [
    "%load_ext sql"
   ]
  },
  {
   "cell_type": "code",
   "execution_count": 2,
   "id": "477a022d-044c-4d06-ac9d-7122523d226e",
   "metadata": {
    "execution": {
     "iopub.execute_input": "2023-07-20T15:56:54.510816Z",
     "iopub.status.busy": "2023-07-20T15:56:54.510622Z",
     "iopub.status.idle": "2023-07-20T15:56:55.043345Z",
     "shell.execute_reply": "2023-07-20T15:56:55.042904Z",
     "shell.execute_reply.started": "2023-07-20T15:56:54.510803Z"
    },
    "tags": []
   },
   "outputs": [],
   "source": [
    "%sql duckdb://"
   ]
  },
  {
   "cell_type": "code",
   "execution_count": 3,
   "id": "4c08b926-3aa5-4848-acb7-49abf692ab34",
   "metadata": {
    "execution": {
     "iopub.execute_input": "2023-07-20T15:56:55.044181Z",
     "iopub.status.busy": "2023-07-20T15:56:55.044043Z",
     "iopub.status.idle": "2023-07-20T15:56:55.423617Z",
     "shell.execute_reply": "2023-07-20T15:56:55.423224Z",
     "shell.execute_reply.started": "2023-07-20T15:56:55.044168Z"
    },
    "tags": []
   },
   "outputs": [
    {
     "data": {
      "text/html": [
       "<span style=\"None\">Running query in &#x27;duckdb://&#x27;</span>"
      ],
      "text/plain": [
       "Running query in 'duckdb://'"
      ]
     },
     "metadata": {},
     "output_type": "display_data"
    },
    {
     "data": {
      "text/html": [
       "<span style=\"None\">(duckdb.IOException) IO Error: No files found that match the pattern &quot;penguins.csv&quot;\n",
       "[SQL: SELECT\n",
       "  *\n",
       "FROM\n",
       "  penguins.csv]\n",
       "(Background on this error at: https://sqlalche.me/e/20/e3q8)</span>"
      ],
      "text/plain": [
       "(duckdb.IOException) IO Error: No files found that match the pattern \"penguins.csv\"\n",
       "[SQL: SELECT\n",
       "  *\n",
       "FROM\n",
       "  penguins.csv]\n",
       "(Background on this error at: https://sqlalche.me/e/20/e3q8)"
      ]
     },
     "metadata": {},
     "output_type": "display_data"
    }
   ],
   "source": [
    "%%sql --save penguins\n",
    "SELECT\n",
    "  *\n",
    "FROM\n",
    "  penguins.csv"
   ]
  },
  {
   "cell_type": "markdown",
   "id": "83d92ccd-7b19-4d55-936c-f627147e46e8",
   "metadata": {},
   "source": [
    "With the `persist_snippets` option turned on, `--save penguins` will store the snippet in `jupysql-snippets/penguins.sql`"
   ]
  },
  {
   "cell_type": "markdown",
   "id": "40a34163-7877-4e0d-a4d9-3ae62f59babe",
   "metadata": {},
   "source": [
    "And running this:"
   ]
  },
  {
   "cell_type": "code",
   "execution_count": 12,
   "id": "5f7b52e6-201a-4945-af9c-381e27ebc374",
   "metadata": {
    "tags": []
   },
   "outputs": [
    {
     "name": "stdout",
     "output_type": "stream",
     "text": [
      "Generating CTE with stored snippets : penguins\n"
     ]
    },
    {
     "data": {
      "text/html": [
       "<span style=\"None\">Running query in &#x27;duckdb://&#x27;</span>"
      ],
      "text/plain": [
       "Running query in 'duckdb://'"
      ]
     },
     "metadata": {},
     "output_type": "display_data"
    },
    {
     "data": {
      "text/html": [
       "<table>\n",
       "    <thead>\n",
       "        <tr>\n",
       "            <th>species</th>\n",
       "            <th>island</th>\n",
       "            <th>bill_length_mm</th>\n",
       "            <th>bill_depth_mm</th>\n",
       "            <th>flipper_length_mm</th>\n",
       "            <th>body_mass_g</th>\n",
       "            <th>sex</th>\n",
       "        </tr>\n",
       "    </thead>\n",
       "    <tbody>\n",
       "        <tr>\n",
       "            <td>Adelie</td>\n",
       "            <td>Torgersen</td>\n",
       "            <td>39.1</td>\n",
       "            <td>18.7</td>\n",
       "            <td>181</td>\n",
       "            <td>3750</td>\n",
       "            <td>MALE</td>\n",
       "        </tr>\n",
       "        <tr>\n",
       "            <td>Adelie</td>\n",
       "            <td>Torgersen</td>\n",
       "            <td>39.3</td>\n",
       "            <td>20.6</td>\n",
       "            <td>190</td>\n",
       "            <td>3650</td>\n",
       "            <td>MALE</td>\n",
       "        </tr>\n",
       "        <tr>\n",
       "            <td>Adelie</td>\n",
       "            <td>Torgersen</td>\n",
       "            <td>39.2</td>\n",
       "            <td>19.6</td>\n",
       "            <td>195</td>\n",
       "            <td>4675</td>\n",
       "            <td>MALE</td>\n",
       "        </tr>\n",
       "        <tr>\n",
       "            <td>Adelie</td>\n",
       "            <td>Torgersen</td>\n",
       "            <td>38.6</td>\n",
       "            <td>21.2</td>\n",
       "            <td>191</td>\n",
       "            <td>3800</td>\n",
       "            <td>MALE</td>\n",
       "        </tr>\n",
       "        <tr>\n",
       "            <td>Adelie</td>\n",
       "            <td>Torgersen</td>\n",
       "            <td>34.6</td>\n",
       "            <td>21.1</td>\n",
       "            <td>198</td>\n",
       "            <td>4400</td>\n",
       "            <td>MALE</td>\n",
       "        </tr>\n",
       "        <tr>\n",
       "            <td>Adelie</td>\n",
       "            <td>Torgersen</td>\n",
       "            <td>42.5</td>\n",
       "            <td>20.7</td>\n",
       "            <td>197</td>\n",
       "            <td>4500</td>\n",
       "            <td>MALE</td>\n",
       "        </tr>\n",
       "        <tr>\n",
       "            <td>Adelie</td>\n",
       "            <td>Torgersen</td>\n",
       "            <td>46.0</td>\n",
       "            <td>21.5</td>\n",
       "            <td>194</td>\n",
       "            <td>4200</td>\n",
       "            <td>MALE</td>\n",
       "        </tr>\n",
       "        <tr>\n",
       "            <td>Adelie</td>\n",
       "            <td>Biscoe</td>\n",
       "            <td>37.7</td>\n",
       "            <td>18.7</td>\n",
       "            <td>180</td>\n",
       "            <td>3600</td>\n",
       "            <td>MALE</td>\n",
       "        </tr>\n",
       "        <tr>\n",
       "            <td>Adelie</td>\n",
       "            <td>Biscoe</td>\n",
       "            <td>38.2</td>\n",
       "            <td>18.1</td>\n",
       "            <td>185</td>\n",
       "            <td>3950</td>\n",
       "            <td>MALE</td>\n",
       "        </tr>\n",
       "        <tr>\n",
       "            <td>Adelie</td>\n",
       "            <td>Biscoe</td>\n",
       "            <td>38.8</td>\n",
       "            <td>17.2</td>\n",
       "            <td>180</td>\n",
       "            <td>3800</td>\n",
       "            <td>MALE</td>\n",
       "        </tr>\n",
       "    </tbody>\n",
       "</table>\n",
       "<span style=\"font-style:italic;text-align:center;\">Truncated to displaylimit of 10</span><br><span style=\"font-style:italic;text-align:center;\">If you want to see more, please visit <a href=\"https://jupysql.ploomber.io/en/latest/api/configuration.html#displaylimit\">displaylimit</a> configuration</span>"
      ],
      "text/plain": [
       "+---------+-----------+----------------+---------------+-------------------+-------------+------+\n",
       "| species |   island  | bill_length_mm | bill_depth_mm | flipper_length_mm | body_mass_g | sex  |\n",
       "+---------+-----------+----------------+---------------+-------------------+-------------+------+\n",
       "|  Adelie | Torgersen |      39.1      |      18.7     |        181        |     3750    | MALE |\n",
       "|  Adelie | Torgersen |      39.3      |      20.6     |        190        |     3650    | MALE |\n",
       "|  Adelie | Torgersen |      39.2      |      19.6     |        195        |     4675    | MALE |\n",
       "|  Adelie | Torgersen |      38.6      |      21.2     |        191        |     3800    | MALE |\n",
       "|  Adelie | Torgersen |      34.6      |      21.1     |        198        |     4400    | MALE |\n",
       "|  Adelie | Torgersen |      42.5      |      20.7     |        197        |     4500    | MALE |\n",
       "|  Adelie | Torgersen |      46.0      |      21.5     |        194        |     4200    | MALE |\n",
       "|  Adelie |   Biscoe  |      37.7      |      18.7     |        180        |     3600    | MALE |\n",
       "|  Adelie |   Biscoe  |      38.2      |      18.1     |        185        |     3950    | MALE |\n",
       "|  Adelie |   Biscoe  |      38.8      |      17.2     |        180        |     3800    | MALE |\n",
       "+---------+-----------+----------------+---------------+-------------------+-------------+------+"
      ]
     },
     "execution_count": 12,
     "metadata": {},
     "output_type": "execute_result"
    }
   ],
   "source": [
    "%%sql --save penguins_male\n",
    "SELECT\n",
    "  *\n",
    "FROM\n",
    "  penguins\n",
    "WHERE\n",
    "  sex = 'MALE'"
   ]
  },
  {
   "cell_type": "markdown",
   "id": "70946103-78d4-43d4-8027-7a5fa8f8b8fc",
   "metadata": {},
   "source": [
    "Should store the generated CTE in `jupysql-snippets/penguins_male.sql`"
   ]
  },
  {
   "cell_type": "code",
   "execution_count": 8,
   "id": "32ce474f-5506-492f-a209-a5c875386c52",
   "metadata": {
    "tags": []
   },
   "outputs": [
    {
     "name": "stdout",
     "output_type": "stream",
     "text": [
      "WITH penguins AS (\n",
      "SELECT\n",
      "  *\n",
      "FROM\n",
      "  penguins.csv)\n",
      "SELECT\n",
      "  *\n",
      "FROM\n",
      "  penguins\n",
      "where sex = 'MALE'\n"
     ]
    }
   ],
   "source": [
    "cte = %sqlrender penguins_male\n",
    "print(cte)"
   ]
  },
  {
   "cell_type": "markdown",
   "id": "ac3ba24e-975b-4d9f-a17a-4ebf42bec557",
   "metadata": {},
   "source": [
    "But when loading it from the `.sql` file, only the:\n",
    "\n",
    "```sql\n",
    "SELECT\n",
    "  *\n",
    "FROM\n",
    "  penguins\n",
    "WHERE\n",
    "  sex = 'MALE'\n",
    "```\n",
    "\n",
    "part should be assigned to the `penguins_male` snippet."
   ]
  },
  {
   "cell_type": "markdown",
   "id": "332d0ed4-03d3-4bdc-8e1b-9c8928d6cfa8",
   "metadata": {},
   "source": [
    "When initializing the magic, we should automatically load the snippets. i.e., if I start a new notebook, and there is a `jupysql-snippets/` directory, the snippets should load:"
   ]
  },
  {
   "cell_type": "code",
   "execution_count": 13,
   "id": "9ff0ac1a-b9ab-4b1a-b07b-98193036a408",
   "metadata": {
    "tags": []
   },
   "outputs": [
    {
     "data": {
      "text/plain": [
       "'penguins, penguins_male'"
      ]
     },
     "execution_count": 13,
     "metadata": {},
     "output_type": "execute_result"
    }
   ],
   "source": [
    "%sqlcmd snippets"
   ]
  },
  {
   "cell_type": "markdown",
   "id": "2c43f2a8-e93c-45c8-bd29-8c44230d8794",
   "metadata": {},
   "source": [
    "Important limitation: this first implementation would only allow one-way editing. For example, if I go and edit the `.sql` file, the changes won't be reflected when I open the notebook. So we must be clear to the users that they *should not* edit `.sql` files by hand, but edit it from the notebook. In the next iteration we can work on two-way syncing."
   ]
  }
 ],
 "metadata": {
  "kernelspec": {
   "display_name": "Python 3 (ipykernel)",
   "language": "python",
   "name": "python3"
  },
  "language_info": {
   "codemirror_mode": {
    "name": "ipython",
    "version": 3
   },
   "file_extension": ".py",
   "mimetype": "text/x-python",
   "name": "python",
   "nbconvert_exporter": "python",
   "pygments_lexer": "ipython3",
   "version": "3.10.12"
  }
 },
 "nbformat": 4,
 "nbformat_minor": 5
}
