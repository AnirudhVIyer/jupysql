{
 "cells": [
  {
   "cell_type": "code",
   "execution_count": 2,
   "id": "680d1d48-07f3-4319-a2a8-38f9d353859d",
   "metadata": {
    "execution": {
     "iopub.execute_input": "2023-05-29T16:21:00.229991Z",
     "iopub.status.busy": "2023-05-29T16:21:00.227816Z",
     "iopub.status.idle": "2023-05-29T16:21:00.248108Z",
     "shell.execute_reply": "2023-05-29T16:21:00.247392Z",
     "shell.execute_reply.started": "2023-05-29T16:21:00.229946Z"
    }
   },
   "outputs": [],
   "source": [
    "# Log time for your benchmarking task!"
   ]
  },
  {
   "cell_type": "code",
   "execution_count": 4,
   "id": "db2a5f61-8b77-4611-a51f-77cb21165fc3",
   "metadata": {
    "execution": {
     "iopub.execute_input": "2023-05-29T16:21:18.269523Z",
     "iopub.status.busy": "2023-05-29T16:21:18.269110Z",
     "iopub.status.idle": "2023-05-29T16:21:18.276932Z",
     "shell.execute_reply": "2023-05-29T16:21:18.276232Z",
     "shell.execute_reply.started": "2023-05-29T16:21:18.269496Z"
    }
   },
   "outputs": [
    {
     "name": "stdout",
     "output_type": "stream",
     "text": [
      "Note the time!\n"
     ]
    }
   ],
   "source": [
    "print('Note the time!')"
   ]
  },
  {
   "cell_type": "code",
   "execution_count": null,
   "id": "a370f06f-1ff9-4f21-8a08-5b113d0c11be",
   "metadata": {},
   "outputs": [],
   "source": []
  }
 ],
 "metadata": {
  "kernelspec": {
   "display_name": "Python 3 (ipykernel)",
   "language": "python",
   "name": "python3"
  },
  "language_info": {
   "codemirror_mode": {
    "name": "ipython",
    "version": 3
   },
   "file_extension": ".py",
   "mimetype": "text/x-python",
   "name": "python",
   "nbconvert_exporter": "python",
   "pygments_lexer": "ipython3",
   "version": "3.10.11"
  }
 },
 "nbformat": 4,
 "nbformat_minor": 5
}
