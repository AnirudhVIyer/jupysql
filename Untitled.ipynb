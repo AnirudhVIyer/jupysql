{
 "cells": [
  {
   "cell_type": "markdown",
   "id": "e48870c3-bbae-468f-8ee9-32792573f946",
   "metadata": {},
   "source": [
    "# Using persist-snippet for the first time"
   ]
  },
  {
   "cell_type": "code",
   "execution_count": 1,
   "id": "350fd995-659e-4732-aec8-02905228a343",
   "metadata": {
    "execution": {
     "iopub.execute_input": "2023-07-20T16:29:23.972408Z",
     "iopub.status.busy": "2023-07-20T16:29:23.972177Z",
     "iopub.status.idle": "2023-07-20T16:29:25.739307Z",
     "shell.execute_reply": "2023-07-20T16:29:25.738254Z",
     "shell.execute_reply.started": "2023-07-20T16:29:23.972384Z"
    }
   },
   "outputs": [],
   "source": [
    "%load_ext sql\n",
    "%sql sqlite://"
   ]
  },
  {
   "cell_type": "code",
   "execution_count": 2,
   "id": "3c7c0b1a-8dee-49ce-b2ed-e5071da96df2",
   "metadata": {
    "execution": {
     "iopub.execute_input": "2023-07-20T16:29:25.742688Z",
     "iopub.status.busy": "2023-07-20T16:29:25.742250Z",
     "iopub.status.idle": "2023-07-20T16:29:26.341232Z",
     "shell.execute_reply": "2023-07-20T16:29:26.340724Z",
     "shell.execute_reply.started": "2023-07-20T16:29:25.742662Z"
    }
   },
   "outputs": [
    {
     "data": {
      "text/html": [
       "<table>\n",
       "    <thead>\n",
       "        <tr>\n",
       "            <th>Count</th>\n",
       "        </tr>\n",
       "    </thead>\n",
       "    <tbody>\n",
       "        <tr>\n",
       "            <td>1</td>\n",
       "        </tr>\n",
       "    </tbody>\n",
       "</table>\n",
       "<span style='font-style:italic;font-size:11px'><code>ResultSet</code> : to convert to pandas, call <a href='https://jupysql.ploomber.io/en/latest/integrations/pandas.html'><code>.DataFrame()</code></a> or to polars, call <a href='https://jupysql.ploomber.io/en/latest/integrations/polars.html'><code>.PolarsDataFrame()</code></a></span><br>"
      ],
      "text/plain": [
       "+-------+\n",
       "| Count |\n",
       "+-------+\n",
       "|   1   |\n",
       "+-------+"
      ]
     },
     "execution_count": 2,
     "metadata": {},
     "output_type": "execute_result"
    }
   ],
   "source": [
    "%%sql duckdb://\n",
    "CREATE TABLE people (name varchar(50), number int, country varchar(50));\n",
    "INSERT INTO people VALUES ('joe', 82, 'usa');\n",
    "INSERT INTO people VALUES ('paula', 93, 'uk');\n",
    "INSERT INTO people VALUES ('sam', 77, 'canada');\n",
    "INSERT INTO people VALUES ('emily', 65, 'usa');\n",
    "INSERT INTO people VALUES ('michael', 89, 'usa');\n",
    "INSERT INTO people VALUES ('sarah', 81, 'uk');\n",
    "INSERT INTO people VALUES ('james', 76, 'usa');\n",
    "INSERT INTO people VALUES ('angela', 88, 'usa');\n",
    "INSERT INTO people VALUES ('robert', 82, 'usa');\n",
    "INSERT INTO people VALUES ('lisa', 92, 'uk');\n",
    "INSERT INTO people VALUES ('mark', 77, 'usa');\n",
    "INSERT INTO people VALUES ('jennifer', 68, 'australia');"
   ]
  },
  {
   "cell_type": "code",
   "execution_count": 3,
   "id": "083b085b-35c4-44e0-bbbc-ef289e3ccd14",
   "metadata": {
    "execution": {
     "iopub.execute_input": "2023-07-20T16:29:26.343541Z",
     "iopub.status.busy": "2023-07-20T16:29:26.343411Z",
     "iopub.status.idle": "2023-07-20T16:29:26.353079Z",
     "shell.execute_reply": "2023-07-20T16:29:26.351831Z",
     "shell.execute_reply.started": "2023-07-20T16:29:26.343528Z"
    }
   },
   "outputs": [],
   "source": [
    "%config SqlMagic.persist_snippets = True"
   ]
  },
  {
   "cell_type": "code",
   "execution_count": 4,
   "id": "5c884016-c193-4cfd-a768-21b20a9e904a",
   "metadata": {
    "execution": {
     "iopub.execute_input": "2023-07-20T16:29:26.355206Z",
     "iopub.status.busy": "2023-07-20T16:29:26.354706Z",
     "iopub.status.idle": "2023-07-20T16:29:26.799931Z",
     "shell.execute_reply": "2023-07-20T16:29:26.799137Z",
     "shell.execute_reply.started": "2023-07-20T16:29:26.355167Z"
    }
   },
   "outputs": [
    {
     "data": {
      "text/html": [
       "<span style=\"None\">Running query in &#x27;duckdb://&#x27;</span>"
      ],
      "text/plain": [
       "Running query in 'duckdb://'"
      ]
     },
     "metadata": {},
     "output_type": "display_data"
    },
    {
     "data": {
      "text/html": [
       "<span style=\"None\">Manual editing of .sql files may not be reflected when reopening the notebook. Please edit snippets directly in the notebook to ensure consistency.</span>"
      ],
      "text/plain": [
       "Manual editing of .sql files may not be reflected when reopening the notebook. Please edit snippets directly in the notebook to ensure consistency."
      ]
     },
     "metadata": {},
     "output_type": "display_data"
    },
    {
     "data": {
      "text/html": [
       "<table>\n",
       "    <thead>\n",
       "        <tr>\n",
       "            <th>name</th>\n",
       "            <th>number</th>\n",
       "            <th>country</th>\n",
       "        </tr>\n",
       "    </thead>\n",
       "    <tbody>\n",
       "        <tr>\n",
       "            <td>joe</td>\n",
       "            <td>82</td>\n",
       "            <td>usa</td>\n",
       "        </tr>\n",
       "        <tr>\n",
       "            <td>emily</td>\n",
       "            <td>65</td>\n",
       "            <td>usa</td>\n",
       "        </tr>\n",
       "        <tr>\n",
       "            <td>michael</td>\n",
       "            <td>89</td>\n",
       "            <td>usa</td>\n",
       "        </tr>\n",
       "        <tr>\n",
       "            <td>james</td>\n",
       "            <td>76</td>\n",
       "            <td>usa</td>\n",
       "        </tr>\n",
       "        <tr>\n",
       "            <td>angela</td>\n",
       "            <td>88</td>\n",
       "            <td>usa</td>\n",
       "        </tr>\n",
       "        <tr>\n",
       "            <td>robert</td>\n",
       "            <td>82</td>\n",
       "            <td>usa</td>\n",
       "        </tr>\n",
       "        <tr>\n",
       "            <td>mark</td>\n",
       "            <td>77</td>\n",
       "            <td>usa</td>\n",
       "        </tr>\n",
       "    </tbody>\n",
       "</table>\n",
       "<span style='font-style:italic;font-size:11px'><code>ResultSet</code> : to convert to pandas, call <a href='https://jupysql.ploomber.io/en/latest/integrations/pandas.html'><code>.DataFrame()</code></a> or to polars, call <a href='https://jupysql.ploomber.io/en/latest/integrations/polars.html'><code>.PolarsDataFrame()</code></a></span><br>"
      ],
      "text/plain": [
       "+---------+--------+---------+\n",
       "|   name  | number | country |\n",
       "+---------+--------+---------+\n",
       "|   joe   |   82   |   usa   |\n",
       "|  emily  |   65   |   usa   |\n",
       "| michael |   89   |   usa   |\n",
       "|  james  |   76   |   usa   |\n",
       "|  angela |   88   |   usa   |\n",
       "|  robert |   82   |   usa   |\n",
       "|   mark  |   77   |   usa   |\n",
       "+---------+--------+---------+"
      ]
     },
     "execution_count": 4,
     "metadata": {},
     "output_type": "execute_result"
    }
   ],
   "source": [
    "%%sql --save citizen\n",
    "select * from people where country = 'usa'"
   ]
  },
  {
   "cell_type": "code",
   "execution_count": 5,
   "id": "275c49dd-3dd6-4916-ae19-b44ab4bfb4b0",
   "metadata": {
    "execution": {
     "iopub.execute_input": "2023-07-20T16:29:26.801037Z",
     "iopub.status.busy": "2023-07-20T16:29:26.800724Z",
     "iopub.status.idle": "2023-07-20T16:29:27.279455Z",
     "shell.execute_reply": "2023-07-20T16:29:27.279004Z",
     "shell.execute_reply.started": "2023-07-20T16:29:26.801012Z"
    }
   },
   "outputs": [
    {
     "data": {
      "text/html": [
       "<span style=\"None\">Generating CTE with stored snippets : &#x27;citizen&#x27;</span>"
      ],
      "text/plain": [
       "Generating CTE with stored snippets : 'citizen'"
      ]
     },
     "metadata": {},
     "output_type": "display_data"
    },
    {
     "data": {
      "text/html": [
       "<span style=\"None\">Running query in &#x27;duckdb://&#x27;</span>"
      ],
      "text/plain": [
       "Running query in 'duckdb://'"
      ]
     },
     "metadata": {},
     "output_type": "display_data"
    },
    {
     "data": {
      "text/html": [
       "<span style=\"None\">Manual editing of .sql files may not be reflected when reopening the notebook. Please edit snippets directly in the notebook to ensure consistency.</span>"
      ],
      "text/plain": [
       "Manual editing of .sql files may not be reflected when reopening the notebook. Please edit snippets directly in the notebook to ensure consistency."
      ]
     },
     "metadata": {},
     "output_type": "display_data"
    },
    {
     "data": {
      "text/html": [
       "<table>\n",
       "    <thead>\n",
       "        <tr>\n",
       "            <th>name</th>\n",
       "            <th>number</th>\n",
       "            <th>country</th>\n",
       "        </tr>\n",
       "    </thead>\n",
       "    <tbody>\n",
       "        <tr>\n",
       "            <td>joe</td>\n",
       "            <td>82</td>\n",
       "            <td>usa</td>\n",
       "        </tr>\n",
       "        <tr>\n",
       "            <td>robert</td>\n",
       "            <td>82</td>\n",
       "            <td>usa</td>\n",
       "        </tr>\n",
       "    </tbody>\n",
       "</table>\n",
       "<span style='font-style:italic;font-size:11px'><code>ResultSet</code> : to convert to pandas, call <a href='https://jupysql.ploomber.io/en/latest/integrations/pandas.html'><code>.DataFrame()</code></a> or to polars, call <a href='https://jupysql.ploomber.io/en/latest/integrations/polars.html'><code>.PolarsDataFrame()</code></a></span><br>"
      ],
      "text/plain": [
       "+--------+--------+---------+\n",
       "|  name  | number | country |\n",
       "+--------+--------+---------+\n",
       "|  joe   |   82   |   usa   |\n",
       "| robert |   82   |   usa   |\n",
       "+--------+--------+---------+"
      ]
     },
     "execution_count": 5,
     "metadata": {},
     "output_type": "execute_result"
    }
   ],
   "source": [
    "%%sql --save citizen_1\n",
    "select * from citizen where number = 82"
   ]
  },
  {
   "cell_type": "code",
   "execution_count": 6,
   "id": "093c6f05-5034-43b5-a1cf-39f8ef0cb96f",
   "metadata": {
    "execution": {
     "iopub.execute_input": "2023-07-20T16:29:27.282137Z",
     "iopub.status.busy": "2023-07-20T16:29:27.281778Z",
     "iopub.status.idle": "2023-07-20T16:29:27.288972Z",
     "shell.execute_reply": "2023-07-20T16:29:27.288472Z",
     "shell.execute_reply.started": "2023-07-20T16:29:27.282118Z"
    }
   },
   "outputs": [
    {
     "data": {
      "text/plain": [
       "\"select * from people where country = 'usa'\""
      ]
     },
     "execution_count": 6,
     "metadata": {},
     "output_type": "execute_result"
    }
   ],
   "source": [
    "%sqlcmd snippets citizen"
   ]
  },
  {
   "cell_type": "code",
   "execution_count": 7,
   "id": "bc7e0727-beb3-4523-bc7e-117e2b44c3dc",
   "metadata": {
    "execution": {
     "iopub.execute_input": "2023-07-20T16:29:27.291592Z",
     "iopub.status.busy": "2023-07-20T16:29:27.290272Z",
     "iopub.status.idle": "2023-07-20T16:29:27.304405Z",
     "shell.execute_reply": "2023-07-20T16:29:27.303692Z",
     "shell.execute_reply.started": "2023-07-20T16:29:27.291570Z"
    }
   },
   "outputs": [
    {
     "data": {
      "text/plain": [
       "\"select * from people where country = 'usa'\""
      ]
     },
     "execution_count": 7,
     "metadata": {},
     "output_type": "execute_result"
    }
   ],
   "source": [
    "%sqlcmd snippets citizen"
   ]
  },
  {
   "cell_type": "code",
   "execution_count": 8,
   "id": "13d841b3-2366-4968-8a1c-a8d7219cbcbb",
   "metadata": {
    "execution": {
     "iopub.execute_input": "2023-07-20T16:29:27.314785Z",
     "iopub.status.busy": "2023-07-20T16:29:27.307392Z",
     "iopub.status.idle": "2023-07-20T16:29:27.324638Z",
     "shell.execute_reply": "2023-07-20T16:29:27.323148Z",
     "shell.execute_reply.started": "2023-07-20T16:29:27.314757Z"
    }
   },
   "outputs": [
    {
     "data": {
      "text/html": [
       "\n",
       "<table>\n",
       "    <thead>\n",
       "        <tr>\n",
       "            <th>Stored snippets</th>\n",
       "        </tr>\n",
       "    </thead>\n",
       "    <tbody>\n",
       "        <tr>\n",
       "            <td>citizen</td>\n",
       "        </tr>\n",
       "        <tr>\n",
       "            <td>citizen_1</td>\n",
       "        </tr>\n",
       "    </tbody>\n",
       "</table>"
      ],
      "text/plain": [
       "\n",
       "+-----------------+\n",
       "| Stored snippets |\n",
       "+-----------------+\n",
       "|     citizen     |\n",
       "|    citizen_1    |\n",
       "+-----------------+"
      ]
     },
     "execution_count": 8,
     "metadata": {},
     "output_type": "execute_result"
    }
   ],
   "source": [
    "%sqlcmd snippets"
   ]
  },
  {
   "cell_type": "markdown",
   "id": "4a82f0c6-daad-415a-b36b-304a80259c8f",
   "metadata": {},
   "source": [
    "# Using persist-snippet when the jupysql-snippets directory already present\n",
    "## restart the kernel"
   ]
  },
  {
   "cell_type": "code",
   "execution_count": 1,
   "id": "64438ff7-19f8-4ee2-a1b6-5c2a9e1809fd",
   "metadata": {
    "execution": {
     "iopub.execute_input": "2023-07-20T16:29:40.886439Z",
     "iopub.status.busy": "2023-07-20T16:29:40.886271Z",
     "iopub.status.idle": "2023-07-20T16:29:42.469248Z",
     "shell.execute_reply": "2023-07-20T16:29:42.468712Z",
     "shell.execute_reply.started": "2023-07-20T16:29:40.886420Z"
    }
   },
   "outputs": [],
   "source": [
    "%load_ext sql\n",
    "%sql sqlite://"
   ]
  },
  {
   "cell_type": "code",
   "execution_count": 2,
   "id": "f50e6049-fd14-48f1-8829-904b4280f697",
   "metadata": {
    "execution": {
     "iopub.execute_input": "2023-07-20T16:29:42.471393Z",
     "iopub.status.busy": "2023-07-20T16:29:42.471109Z",
     "iopub.status.idle": "2023-07-20T16:29:42.965210Z",
     "shell.execute_reply": "2023-07-20T16:29:42.964634Z",
     "shell.execute_reply.started": "2023-07-20T16:29:42.471374Z"
    }
   },
   "outputs": [
    {
     "data": {
      "text/html": [
       "<table>\n",
       "    <thead>\n",
       "        <tr>\n",
       "            <th>Count</th>\n",
       "        </tr>\n",
       "    </thead>\n",
       "    <tbody>\n",
       "        <tr>\n",
       "            <td>1</td>\n",
       "        </tr>\n",
       "    </tbody>\n",
       "</table>\n",
       "<span style='font-style:italic;font-size:11px'><code>ResultSet</code> : to convert to pandas, call <a href='https://jupysql.ploomber.io/en/latest/integrations/pandas.html'><code>.DataFrame()</code></a> or to polars, call <a href='https://jupysql.ploomber.io/en/latest/integrations/polars.html'><code>.PolarsDataFrame()</code></a></span><br>"
      ],
      "text/plain": [
       "+-------+\n",
       "| Count |\n",
       "+-------+\n",
       "|   1   |\n",
       "+-------+"
      ]
     },
     "execution_count": 2,
     "metadata": {},
     "output_type": "execute_result"
    }
   ],
   "source": [
    "%%sql duckdb://\n",
    "CREATE TABLE people (name varchar(50), number int, country varchar(50));\n",
    "INSERT INTO people VALUES ('joe', 82, 'usa');\n",
    "INSERT INTO people VALUES ('paula', 93, 'uk');\n",
    "INSERT INTO people VALUES ('sam', 77, 'canada');\n",
    "INSERT INTO people VALUES ('emily', 65, 'usa');\n",
    "INSERT INTO people VALUES ('michael', 89, 'usa');\n",
    "INSERT INTO people VALUES ('sarah', 81, 'uk');\n",
    "INSERT INTO people VALUES ('james', 76, 'usa');\n",
    "INSERT INTO people VALUES ('angela', 88, 'usa');\n",
    "INSERT INTO people VALUES ('robert', 82, 'usa');\n",
    "INSERT INTO people VALUES ('lisa', 92, 'uk');\n",
    "INSERT INTO people VALUES ('mark', 77, 'usa');\n",
    "INSERT INTO people VALUES ('jennifer', 68, 'australia');"
   ]
  },
  {
   "cell_type": "code",
   "execution_count": 3,
   "id": "f5d5bf62-5f76-408b-8663-f7855589028b",
   "metadata": {
    "execution": {
     "iopub.execute_input": "2023-07-20T16:29:42.966533Z",
     "iopub.status.busy": "2023-07-20T16:29:42.966176Z",
     "iopub.status.idle": "2023-07-20T16:29:42.971345Z",
     "shell.execute_reply": "2023-07-20T16:29:42.970870Z",
     "shell.execute_reply.started": "2023-07-20T16:29:42.966511Z"
    }
   },
   "outputs": [
    {
     "data": {
      "text/html": [
       "\n",
       "<table>\n",
       "    <thead>\n",
       "        <tr>\n",
       "            <th>Stored snippets</th>\n",
       "        </tr>\n",
       "    </thead>\n",
       "    <tbody>\n",
       "        <tr>\n",
       "            <td>citizen</td>\n",
       "        </tr>\n",
       "        <tr>\n",
       "            <td>citizen_1</td>\n",
       "        </tr>\n",
       "    </tbody>\n",
       "</table>"
      ],
      "text/plain": [
       "\n",
       "+-----------------+\n",
       "| Stored snippets |\n",
       "+-----------------+\n",
       "|     citizen     |\n",
       "|    citizen_1    |\n",
       "+-----------------+"
      ]
     },
     "execution_count": 3,
     "metadata": {},
     "output_type": "execute_result"
    }
   ],
   "source": [
    "%sqlcmd snippets"
   ]
  },
  {
   "cell_type": "code",
   "execution_count": 4,
   "id": "42d3abe0-1ae7-4ec1-b610-9d94b56ab514",
   "metadata": {
    "execution": {
     "iopub.execute_input": "2023-07-20T16:29:42.976553Z",
     "iopub.status.busy": "2023-07-20T16:29:42.975983Z",
     "iopub.status.idle": "2023-07-20T16:29:43.443719Z",
     "shell.execute_reply": "2023-07-20T16:29:43.443132Z",
     "shell.execute_reply.started": "2023-07-20T16:29:42.976502Z"
    }
   },
   "outputs": [
    {
     "data": {
      "text/html": [
       "<span style=\"None\">Generating CTE with stored snippets : &#x27;citizen&#x27;</span>"
      ],
      "text/plain": [
       "Generating CTE with stored snippets : 'citizen'"
      ]
     },
     "metadata": {},
     "output_type": "display_data"
    },
    {
     "data": {
      "text/html": [
       "<span style=\"None\">Running query in &#x27;duckdb://&#x27;</span>"
      ],
      "text/plain": [
       "Running query in 'duckdb://'"
      ]
     },
     "metadata": {},
     "output_type": "display_data"
    },
    {
     "data": {
      "text/html": [
       "<table>\n",
       "    <thead>\n",
       "        <tr>\n",
       "            <th>name</th>\n",
       "            <th>number</th>\n",
       "            <th>country</th>\n",
       "        </tr>\n",
       "    </thead>\n",
       "    <tbody>\n",
       "        <tr>\n",
       "            <td>joe</td>\n",
       "            <td>82</td>\n",
       "            <td>usa</td>\n",
       "        </tr>\n",
       "        <tr>\n",
       "            <td>emily</td>\n",
       "            <td>65</td>\n",
       "            <td>usa</td>\n",
       "        </tr>\n",
       "        <tr>\n",
       "            <td>michael</td>\n",
       "            <td>89</td>\n",
       "            <td>usa</td>\n",
       "        </tr>\n",
       "        <tr>\n",
       "            <td>james</td>\n",
       "            <td>76</td>\n",
       "            <td>usa</td>\n",
       "        </tr>\n",
       "        <tr>\n",
       "            <td>angela</td>\n",
       "            <td>88</td>\n",
       "            <td>usa</td>\n",
       "        </tr>\n",
       "        <tr>\n",
       "            <td>robert</td>\n",
       "            <td>82</td>\n",
       "            <td>usa</td>\n",
       "        </tr>\n",
       "        <tr>\n",
       "            <td>mark</td>\n",
       "            <td>77</td>\n",
       "            <td>usa</td>\n",
       "        </tr>\n",
       "    </tbody>\n",
       "</table>\n",
       "<span style='font-style:italic;font-size:11px'><code>ResultSet</code> : to convert to pandas, call <a href='https://jupysql.ploomber.io/en/latest/integrations/pandas.html'><code>.DataFrame()</code></a> or to polars, call <a href='https://jupysql.ploomber.io/en/latest/integrations/polars.html'><code>.PolarsDataFrame()</code></a></span><br>"
      ],
      "text/plain": [
       "+---------+--------+---------+\n",
       "|   name  | number | country |\n",
       "+---------+--------+---------+\n",
       "|   joe   |   82   |   usa   |\n",
       "|  emily  |   65   |   usa   |\n",
       "| michael |   89   |   usa   |\n",
       "|  james  |   76   |   usa   |\n",
       "|  angela |   88   |   usa   |\n",
       "|  robert |   82   |   usa   |\n",
       "|   mark  |   77   |   usa   |\n",
       "+---------+--------+---------+"
      ]
     },
     "execution_count": 4,
     "metadata": {},
     "output_type": "execute_result"
    }
   ],
   "source": [
    "%%sql\n",
    "SELECT * FROM citizen"
   ]
  },
  {
   "cell_type": "code",
   "execution_count": 5,
   "id": "74d7510f-6127-457f-b0b7-2f148ee4ba11",
   "metadata": {
    "execution": {
     "iopub.execute_input": "2023-07-20T16:29:44.475070Z",
     "iopub.status.busy": "2023-07-20T16:29:44.474336Z",
     "iopub.status.idle": "2023-07-20T16:29:44.944934Z",
     "shell.execute_reply": "2023-07-20T16:29:44.944375Z",
     "shell.execute_reply.started": "2023-07-20T16:29:44.475021Z"
    }
   },
   "outputs": [
    {
     "data": {
      "text/html": [
       "<span style=\"None\">Generating CTE with stored snippets : &#x27;citizen_1&#x27;</span>"
      ],
      "text/plain": [
       "Generating CTE with stored snippets : 'citizen_1'"
      ]
     },
     "metadata": {},
     "output_type": "display_data"
    },
    {
     "data": {
      "text/html": [
       "<span style=\"None\">Running query in &#x27;duckdb://&#x27;</span>"
      ],
      "text/plain": [
       "Running query in 'duckdb://'"
      ]
     },
     "metadata": {},
     "output_type": "display_data"
    },
    {
     "data": {
      "text/html": [
       "<table>\n",
       "    <thead>\n",
       "        <tr>\n",
       "            <th>name</th>\n",
       "            <th>number</th>\n",
       "            <th>country</th>\n",
       "        </tr>\n",
       "    </thead>\n",
       "    <tbody>\n",
       "        <tr>\n",
       "            <td>joe</td>\n",
       "            <td>82</td>\n",
       "            <td>usa</td>\n",
       "        </tr>\n",
       "        <tr>\n",
       "            <td>robert</td>\n",
       "            <td>82</td>\n",
       "            <td>usa</td>\n",
       "        </tr>\n",
       "    </tbody>\n",
       "</table>\n",
       "<span style='font-style:italic;font-size:11px'><code>ResultSet</code> : to convert to pandas, call <a href='https://jupysql.ploomber.io/en/latest/integrations/pandas.html'><code>.DataFrame()</code></a> or to polars, call <a href='https://jupysql.ploomber.io/en/latest/integrations/polars.html'><code>.PolarsDataFrame()</code></a></span><br>"
      ],
      "text/plain": [
       "+--------+--------+---------+\n",
       "|  name  | number | country |\n",
       "+--------+--------+---------+\n",
       "|  joe   |   82   |   usa   |\n",
       "| robert |   82   |   usa   |\n",
       "+--------+--------+---------+"
      ]
     },
     "execution_count": 5,
     "metadata": {},
     "output_type": "execute_result"
    }
   ],
   "source": [
    "%%sql\n",
    "SELECT * FROM citizen_1"
   ]
  },
  {
   "cell_type": "code",
   "execution_count": 6,
   "id": "ced3f39d-8785-4e07-b565-64251647e6f4",
   "metadata": {
    "execution": {
     "iopub.execute_input": "2023-07-20T16:29:44.946265Z",
     "iopub.status.busy": "2023-07-20T16:29:44.946059Z",
     "iopub.status.idle": "2023-07-20T16:29:44.957203Z",
     "shell.execute_reply": "2023-07-20T16:29:44.956644Z",
     "shell.execute_reply.started": "2023-07-20T16:29:44.946245Z"
    }
   },
   "outputs": [
    {
     "data": {
      "text/plain": [
       "\"select * from people where country = 'usa'\""
      ]
     },
     "execution_count": 6,
     "metadata": {},
     "output_type": "execute_result"
    }
   ],
   "source": [
    "%sqlcmd snippets citizen"
   ]
  },
  {
   "cell_type": "code",
   "execution_count": 7,
   "id": "a23716e1-7045-484a-a6f5-a6584f0dd379",
   "metadata": {
    "execution": {
     "iopub.execute_input": "2023-07-20T16:29:45.093217Z",
     "iopub.status.busy": "2023-07-20T16:29:45.092804Z",
     "iopub.status.idle": "2023-07-20T16:29:45.106618Z",
     "shell.execute_reply": "2023-07-20T16:29:45.105756Z",
     "shell.execute_reply.started": "2023-07-20T16:29:45.093188Z"
    }
   },
   "outputs": [
    {
     "data": {
      "text/plain": [
       "\"select * from people where country = 'usa'\""
      ]
     },
     "execution_count": 7,
     "metadata": {},
     "output_type": "execute_result"
    }
   ],
   "source": [
    "%sqlcmd snippets citizen"
   ]
  },
  {
   "cell_type": "code",
   "execution_count": null,
   "id": "86be2f1a-01cb-4f51-b849-46e537c133c9",
   "metadata": {},
   "outputs": [],
   "source": []
  },
  {
   "cell_type": "code",
   "execution_count": null,
   "id": "0af94cf3-80f5-4397-85aa-76800c7b7266",
   "metadata": {},
   "outputs": [],
   "source": []
  }
 ],
 "metadata": {
  "kernelspec": {
   "display_name": "Python 3 (ipykernel)",
   "language": "python",
   "name": "python3"
  },
  "language_info": {
   "codemirror_mode": {
    "name": "ipython",
    "version": 3
   },
   "file_extension": ".py",
   "mimetype": "text/x-python",
   "name": "python",
   "nbconvert_exporter": "python",
   "pygments_lexer": "ipython3",
   "version": "3.10.12"
  }
 },
 "nbformat": 4,
 "nbformat_minor": 5
}
