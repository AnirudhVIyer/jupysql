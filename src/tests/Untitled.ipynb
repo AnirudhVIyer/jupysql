{
 "cells": [
  {
   "cell_type": "code",
   "execution_count": 1,
   "id": "7f58397d-fc6c-40ee-8b38-b3803edfda7e",
   "metadata": {
    "execution": {
     "iopub.execute_input": "2023-08-11T17:47:09.969945Z",
     "iopub.status.busy": "2023-08-11T17:47:09.969661Z",
     "iopub.status.idle": "2023-08-11T17:47:11.279611Z",
     "shell.execute_reply": "2023-08-11T17:47:11.279033Z",
     "shell.execute_reply.started": "2023-08-11T17:47:09.969914Z"
    }
   },
   "outputs": [
    {
     "data": {
      "text/html": [
       "<span style=\"None\">Found pyproject.toml from &#x27;/Users/anirudhiyer/Desktop/internship/jupysql&#x27;</span>"
      ],
      "text/plain": [
       "Found pyproject.toml from '/Users/anirudhiyer/Desktop/internship/jupysql'"
      ]
     },
     "metadata": {},
     "output_type": "display_data"
    }
   ],
   "source": [
    "%load_ext sql"
   ]
  },
  {
   "cell_type": "code",
   "execution_count": 2,
   "id": "6dd5c1f0-0986-40e3-918c-35cddb56023c",
   "metadata": {
    "execution": {
     "iopub.execute_input": "2023-08-11T17:47:11.282012Z",
     "iopub.status.busy": "2023-08-11T17:47:11.281531Z",
     "iopub.status.idle": "2023-08-11T17:47:11.870090Z",
     "shell.execute_reply": "2023-08-11T17:47:11.868405Z",
     "shell.execute_reply.started": "2023-08-11T17:47:11.281989Z"
    }
   },
   "outputs": [],
   "source": [
    "%sql sqlite://"
   ]
  },
  {
   "cell_type": "code",
   "execution_count": 3,
   "id": "4ef06973-5a38-468f-bb9f-a36a76fce6cd",
   "metadata": {
    "execution": {
     "iopub.execute_input": "2023-08-11T17:47:11.878125Z",
     "iopub.status.busy": "2023-08-11T17:47:11.877535Z",
     "iopub.status.idle": "2023-08-11T17:47:12.491131Z",
     "shell.execute_reply": "2023-08-11T17:47:12.490284Z",
     "shell.execute_reply.started": "2023-08-11T17:47:11.878094Z"
    }
   },
   "outputs": [
    {
     "data": {
      "text/html": [
       "<span style=\"None\">Running query in &#x27;sqlite://&#x27;</span>"
      ],
      "text/plain": [
       "Running query in 'sqlite://'"
      ]
     },
     "metadata": {},
     "output_type": "display_data"
    },
    {
     "data": {
      "text/html": [
       "<span style=\"color: green\">1 rows affected.</span>"
      ],
      "text/plain": [
       "1 rows affected."
      ]
     },
     "metadata": {},
     "output_type": "display_data"
    },
    {
     "data": {
      "text/html": [
       "<span style=\"color: green\">1 rows affected.</span>"
      ],
      "text/plain": [
       "1 rows affected."
      ]
     },
     "metadata": {},
     "output_type": "display_data"
    },
    {
     "data": {
      "text/html": [
       "<span style=\"color: green\">1 rows affected.</span>"
      ],
      "text/plain": [
       "1 rows affected."
      ]
     },
     "metadata": {},
     "output_type": "display_data"
    },
    {
     "data": {
      "text/html": [
       "<span style=\"color: green\">1 rows affected.</span>"
      ],
      "text/plain": [
       "1 rows affected."
      ]
     },
     "metadata": {},
     "output_type": "display_data"
    },
    {
     "data": {
      "text/html": [
       "<table>\n",
       "    <thead>\n",
       "        <tr>\n",
       "        </tr>\n",
       "    </thead>\n",
       "    <tbody>\n",
       "    </tbody>\n",
       "</table>\n",
       "<span style='font-style:italic;font-size:11px'><code>ResultSet</code> : to convert to pandas, call <a href='https://jupysql.ploomber.io/en/latest/integrations/pandas.html'><code>.DataFrame()</code></a> or to polars, call <a href='https://jupysql.ploomber.io/en/latest/integrations/polars.html'><code>.PolarsDataFrame()</code></a></span><br>"
      ],
      "text/plain": [
       "++\n",
       "||\n",
       "++\n",
       "++"
      ]
     },
     "execution_count": 3,
     "metadata": {},
     "output_type": "execute_result"
    }
   ],
   "source": [
    "%%sql\n",
    "CREATE TABLE languages (name, rating, change);\n",
    "INSERT INTO languages VALUES ('Python', 14.44, 2.48);\n",
    "INSERT INTO languages VALUES ('C', 13.13, 1.50);\n",
    "INSERT INTO languages VALUES ('Java', 11.59, 0.40);\n",
    "INSERT INTO languages VALUES ('C++', 10.00, 1.98);"
   ]
  },
  {
   "cell_type": "code",
   "execution_count": 4,
   "id": "e1f1bcbc-75f4-4388-8388-9771022a1cf5",
   "metadata": {
    "execution": {
     "iopub.execute_input": "2023-08-11T17:47:13.892536Z",
     "iopub.status.busy": "2023-08-11T17:47:13.892118Z",
     "iopub.status.idle": "2023-08-11T17:47:13.900733Z",
     "shell.execute_reply": "2023-08-11T17:47:13.899587Z",
     "shell.execute_reply.started": "2023-08-11T17:47:13.892509Z"
    }
   },
   "outputs": [
    {
     "name": "stdout",
     "output_type": "stream",
     "text": [
      "SqlMagic(Magics, Configurable) options\n",
      "------------------------------------\n",
      "SqlMagic.autocommit=<Bool>\n",
      "    Set autocommit mode\n",
      "    Current: True\n",
      "SqlMagic.autolimit=<Int>\n",
      "    Automatically limit the size of the returned result sets\n",
      "    Current: 0\n",
      "SqlMagic.autopandas=<Bool>\n",
      "    Return Pandas DataFrames instead of regular result sets\n",
      "    Current: False\n",
      "SqlMagic.autopolars=<Bool>\n",
      "    Return Polars DataFrames instead of regular result sets\n",
      "    Current: False\n",
      "SqlMagic.column_local_vars=<Bool>\n",
      "    Return data into local variables from column names\n",
      "    Current: False\n",
      "SqlMagic.displaycon=<Bool>\n",
      "    Show connection string after execution\n",
      "    Current: True\n",
      "SqlMagic.displaylimit=<Int>\n",
      "    Automatically limit the number of rows displayed (full result set is still\n",
      "    stored)\n",
      "    Current: 10\n",
      "SqlMagic.dsn_filename=<Unicode>\n",
      "    Path to DSN file. When the first argument is of the form [section], a\n",
      "    sqlalchemy connection string is formed from the matching section in the DSN\n",
      "    file.\n",
      "    Current: 'odbc.ini'\n",
      "SqlMagic.feedback=<Bool>\n",
      "    Print number of rows affected by DML\n",
      "    Current: True\n",
      "SqlMagic.named_parameters=<Bool>\n",
      "    Allow named parameters in queries (i.e., 'SELECT * FROM foo WHERE bar =\n",
      "    :bar')\n",
      "    Current: False\n",
      "SqlMagic.polars_dataframe_kwargs=<key-1>=<value-1>...\n",
      "    Polars DataFrame constructor keyword arguments(e.g. infer_schema_length,\n",
      "    nan_to_null, schema_overrides, etc)\n",
      "    Current: {}\n",
      "SqlMagic.short_errors=<Bool>\n",
      "    Don't display the full traceback on SQL Programming Error\n",
      "    Current: True\n",
      "SqlMagic.style=<Unicode>\n",
      "    Set the table printing style to any of prettytable's defined styles\n",
      "    (currently DEFAULT, MSWORD_FRIENDLY, PLAIN_COLUMNS, RANDOM, SINGLE_BORDER,\n",
      "    DOUBLE_BORDER, MARKDOWN )\n",
      "    Current: 'DEFAULT'\n"
     ]
    }
   ],
   "source": [
    "%config SqlMagic"
   ]
  },
  {
   "cell_type": "code",
   "execution_count": 5,
   "id": "4c235195-6e34-423e-ac67-819f39d2e4be",
   "metadata": {
    "execution": {
     "iopub.execute_input": "2023-08-11T17:47:22.941572Z",
     "iopub.status.busy": "2023-08-11T17:47:22.941147Z",
     "iopub.status.idle": "2023-08-11T17:47:22.949906Z",
     "shell.execute_reply": "2023-08-11T17:47:22.948484Z",
     "shell.execute_reply.started": "2023-08-11T17:47:22.941548Z"
    }
   },
   "outputs": [],
   "source": [
    "%config SqlMagic.feedback = False"
   ]
  },
  {
   "cell_type": "code",
   "execution_count": 6,
   "id": "1be2901f-0507-4e29-9b92-501a7c46aa74",
   "metadata": {
    "execution": {
     "iopub.execute_input": "2023-08-11T17:47:30.070542Z",
     "iopub.status.busy": "2023-08-11T17:47:30.070135Z",
     "iopub.status.idle": "2023-08-11T17:47:31.536416Z",
     "shell.execute_reply": "2023-08-11T17:47:31.535282Z",
     "shell.execute_reply.started": "2023-08-11T17:47:30.070507Z"
    }
   },
   "outputs": [
    {
     "data": {
      "text/html": [
       "<span style=\"None\">Running query in &#x27;sqlite://&#x27;</span>"
      ],
      "text/plain": [
       "Running query in 'sqlite://'"
      ]
     },
     "metadata": {},
     "output_type": "display_data"
    },
    {
     "data": {
      "text/html": [
       "<table>\n",
       "    <thead>\n",
       "        <tr>\n",
       "            <th>name</th>\n",
       "            <th>rating</th>\n",
       "            <th>change</th>\n",
       "        </tr>\n",
       "    </thead>\n",
       "    <tbody>\n",
       "        <tr>\n",
       "            <td>Python</td>\n",
       "            <td>14.44</td>\n",
       "            <td>2.48</td>\n",
       "        </tr>\n",
       "        <tr>\n",
       "            <td>C</td>\n",
       "            <td>13.13</td>\n",
       "            <td>1.5</td>\n",
       "        </tr>\n",
       "    </tbody>\n",
       "</table>\n",
       "<span style='font-style:italic;font-size:11px'><code>ResultSet</code> : to convert to pandas, call <a href='https://jupysql.ploomber.io/en/latest/integrations/pandas.html'><code>.DataFrame()</code></a> or to polars, call <a href='https://jupysql.ploomber.io/en/latest/integrations/polars.html'><code>.PolarsDataFrame()</code></a></span><br>"
      ],
      "text/plain": [
       "+--------+--------+--------+\n",
       "|  name  | rating | change |\n",
       "+--------+--------+--------+\n",
       "| Python | 14.44  |  2.48  |\n",
       "|   C    | 13.13  |  1.5   |\n",
       "+--------+--------+--------+"
      ]
     },
     "execution_count": 6,
     "metadata": {},
     "output_type": "execute_result"
    }
   ],
   "source": [
    "%config SqlMagic.displaycon = True\n",
    "%sql SELECT * FROM languages LIMIT 2"
   ]
  },
  {
   "cell_type": "code",
   "execution_count": 7,
   "id": "ea9126ae-f76d-4c71-b291-488c5497a3ac",
   "metadata": {
    "execution": {
     "iopub.execute_input": "2023-08-11T17:47:33.528998Z",
     "iopub.status.busy": "2023-08-11T17:47:33.528537Z",
     "iopub.status.idle": "2023-08-11T17:47:35.310051Z",
     "shell.execute_reply": "2023-08-11T17:47:35.308869Z",
     "shell.execute_reply.started": "2023-08-11T17:47:33.528967Z"
    }
   },
   "outputs": [
    {
     "data": {
      "text/html": [
       "<table>\n",
       "    <thead>\n",
       "        <tr>\n",
       "            <th>name</th>\n",
       "            <th>rating</th>\n",
       "            <th>change</th>\n",
       "        </tr>\n",
       "    </thead>\n",
       "    <tbody>\n",
       "        <tr>\n",
       "            <td>Python</td>\n",
       "            <td>14.44</td>\n",
       "            <td>2.48</td>\n",
       "        </tr>\n",
       "        <tr>\n",
       "            <td>C</td>\n",
       "            <td>13.13</td>\n",
       "            <td>1.5</td>\n",
       "        </tr>\n",
       "    </tbody>\n",
       "</table>\n",
       "<span style='font-style:italic;font-size:11px'><code>ResultSet</code> : to convert to pandas, call <a href='https://jupysql.ploomber.io/en/latest/integrations/pandas.html'><code>.DataFrame()</code></a> or to polars, call <a href='https://jupysql.ploomber.io/en/latest/integrations/polars.html'><code>.PolarsDataFrame()</code></a></span><br>"
      ],
      "text/plain": [
       "+--------+--------+--------+\n",
       "|  name  | rating | change |\n",
       "+--------+--------+--------+\n",
       "| Python | 14.44  |  2.48  |\n",
       "|   C    | 13.13  |  1.5   |\n",
       "+--------+--------+--------+"
      ]
     },
     "execution_count": 7,
     "metadata": {},
     "output_type": "execute_result"
    }
   ],
   "source": [
    "%config SqlMagic.displaycon = False\n",
    "%sql SELECT * FROM languages LIMIT 2"
   ]
  },
  {
   "cell_type": "code",
   "execution_count": 8,
   "id": "092fd1dc-75f3-47cb-886a-703a244f9707",
   "metadata": {
    "execution": {
     "iopub.execute_input": "2023-08-11T17:47:56.121989Z",
     "iopub.status.busy": "2023-08-11T17:47:56.121605Z",
     "iopub.status.idle": "2023-08-11T17:47:56.721622Z",
     "shell.execute_reply": "2023-08-11T17:47:56.721064Z",
     "shell.execute_reply.started": "2023-08-11T17:47:56.121964Z"
    }
   },
   "outputs": [
    {
     "data": {
      "text/html": [
       "<table>\n",
       "    <thead>\n",
       "        <tr>\n",
       "            <th>name</th>\n",
       "            <th>rating</th>\n",
       "            <th>change</th>\n",
       "        </tr>\n",
       "    </thead>\n",
       "    <tbody>\n",
       "        <tr>\n",
       "            <td>Python</td>\n",
       "            <td>14.44</td>\n",
       "            <td>2.48</td>\n",
       "        </tr>\n",
       "        <tr>\n",
       "            <td>C</td>\n",
       "            <td>13.13</td>\n",
       "            <td>1.5</td>\n",
       "        </tr>\n",
       "        <tr>\n",
       "            <td>Java</td>\n",
       "            <td>11.59</td>\n",
       "            <td>0.4</td>\n",
       "        </tr>\n",
       "        <tr>\n",
       "            <td>C++</td>\n",
       "            <td>10.0</td>\n",
       "            <td>1.98</td>\n",
       "        </tr>\n",
       "    </tbody>\n",
       "</table>\n",
       "<span style='font-style:italic;font-size:11px'><code>ResultSet</code> : to convert to pandas, call <a href='https://jupysql.ploomber.io/en/latest/integrations/pandas.html'><code>.DataFrame()</code></a> or to polars, call <a href='https://jupysql.ploomber.io/en/latest/integrations/polars.html'><code>.PolarsDataFrame()</code></a></span><br>"
      ],
      "text/plain": [
       "+--------+--------+--------+\n",
       "|  name  | rating | change |\n",
       "+--------+--------+--------+\n",
       "| Python | 14.44  |  2.48  |\n",
       "|   C    | 13.13  |  1.5   |\n",
       "|  Java  | 11.59  |  0.4   |\n",
       "|  C++   |  10.0  |  1.98  |\n",
       "+--------+--------+--------+"
      ]
     },
     "execution_count": 8,
     "metadata": {},
     "output_type": "execute_result"
    }
   ],
   "source": [
    "%config SqlMagic.autolimit = 0\n",
    "%sql SELECT * FROM languages"
   ]
  },
  {
   "cell_type": "code",
   "execution_count": 9,
   "id": "b39d0e3c-48fd-4d28-a112-25853e2341d6",
   "metadata": {
    "execution": {
     "iopub.execute_input": "2023-08-11T17:48:02.594177Z",
     "iopub.status.busy": "2023-08-11T17:48:02.593770Z",
     "iopub.status.idle": "2023-08-11T17:48:03.015086Z",
     "shell.execute_reply": "2023-08-11T17:48:03.014582Z",
     "shell.execute_reply.started": "2023-08-11T17:48:02.594152Z"
    }
   },
   "outputs": [
    {
     "data": {
      "text/html": [
       "<table>\n",
       "    <thead>\n",
       "        <tr>\n",
       "            <th>name</th>\n",
       "            <th>rating</th>\n",
       "            <th>change</th>\n",
       "        </tr>\n",
       "    </thead>\n",
       "    <tbody>\n",
       "        <tr>\n",
       "            <td>Python</td>\n",
       "            <td>14.44</td>\n",
       "            <td>2.48</td>\n",
       "        </tr>\n",
       "    </tbody>\n",
       "</table>\n",
       "<span style='font-style:italic;font-size:11px'><code>ResultSet</code> : to convert to pandas, call <a href='https://jupysql.ploomber.io/en/latest/integrations/pandas.html'><code>.DataFrame()</code></a> or to polars, call <a href='https://jupysql.ploomber.io/en/latest/integrations/polars.html'><code>.PolarsDataFrame()</code></a></span><br>"
      ],
      "text/plain": [
       "+--------+--------+--------+\n",
       "|  name  | rating | change |\n",
       "+--------+--------+--------+\n",
       "| Python | 14.44  |  2.48  |\n",
       "+--------+--------+--------+"
      ]
     },
     "execution_count": 9,
     "metadata": {},
     "output_type": "execute_result"
    }
   ],
   "source": [
    "%config SqlMagic.autolimit = 1\n",
    "%sql SELECT * FROM languages"
   ]
  },
  {
   "cell_type": "code",
   "execution_count": 10,
   "id": "26a628a9-5cd3-4fc8-8c0f-7c8ee62d72a2",
   "metadata": {
    "execution": {
     "iopub.execute_input": "2023-08-11T17:48:08.654700Z",
     "iopub.status.busy": "2023-08-11T17:48:08.654279Z",
     "iopub.status.idle": "2023-08-11T17:48:08.661372Z",
     "shell.execute_reply": "2023-08-11T17:48:08.660644Z",
     "shell.execute_reply.started": "2023-08-11T17:48:08.654676Z"
    }
   },
   "outputs": [],
   "source": [
    "%config SqlMagic.autolimit = 0"
   ]
  },
  {
   "cell_type": "code",
   "execution_count": 21,
   "id": "347c3298-322c-43d2-91d9-2fe3765017f6",
   "metadata": {
    "execution": {
     "iopub.execute_input": "2023-08-11T18:59:44.482304Z",
     "iopub.status.busy": "2023-08-11T18:59:44.481834Z",
     "iopub.status.idle": "2023-08-11T18:59:46.161679Z",
     "shell.execute_reply": "2023-08-11T18:59:46.160507Z",
     "shell.execute_reply.started": "2023-08-11T18:59:44.482277Z"
    }
   },
   "outputs": [
    {
     "data": {
      "text/html": [
       "<span style=\"None\">displaylimit: Value None will be treated as 0 (no limit)</span>"
      ],
      "text/plain": [
       "displaylimit: Value None will be treated as 0 (no limit)"
      ]
     },
     "metadata": {},
     "output_type": "display_data"
    },
    {
     "data": {
      "text/html": [
       "<table>\n",
       "    <thead>\n",
       "        <tr>\n",
       "            <th>name</th>\n",
       "            <th>rating</th>\n",
       "            <th>change</th>\n",
       "        </tr>\n",
       "    </thead>\n",
       "    <tbody>\n",
       "    </tbody>\n",
       "</table>\n",
       "<span style='font-style:italic;font-size:11px'><code>ResultSet</code> : to convert to pandas, call <a href='https://jupysql.ploomber.io/en/latest/integrations/pandas.html'><code>.DataFrame()</code></a> or to polars, call <a href='https://jupysql.ploomber.io/en/latest/integrations/polars.html'><code>.PolarsDataFrame()</code></a></span><br>"
      ],
      "text/plain": [
       "+------+--------+--------+\n",
       "| name | rating | change |\n",
       "+------+--------+--------+\n",
       "+------+--------+--------+"
      ]
     },
     "execution_count": 21,
     "metadata": {},
     "output_type": "execute_result"
    }
   ],
   "source": [
    "%config SqlMagic.displaylimit = None\n",
    "%sql SELECT * FROM languages"
   ]
  },
  {
   "cell_type": "code",
   "execution_count": 22,
   "id": "42c98058-a078-4e28-9402-6b4c0b0e4cee",
   "metadata": {
    "execution": {
     "iopub.execute_input": "2023-08-11T18:59:46.163973Z",
     "iopub.status.busy": "2023-08-11T18:59:46.163653Z",
     "iopub.status.idle": "2023-08-11T18:59:47.906949Z",
     "shell.execute_reply": "2023-08-11T18:59:47.905709Z",
     "shell.execute_reply.started": "2023-08-11T18:59:46.163943Z"
    }
   },
   "outputs": [
    {
     "data": {
      "text/html": [
       "<table>\n",
       "    <thead>\n",
       "        <tr>\n",
       "            <th>name</th>\n",
       "            <th>rating</th>\n",
       "            <th>change</th>\n",
       "        </tr>\n",
       "    </thead>\n",
       "    <tbody>\n",
       "        <tr>\n",
       "            <td>Python</td>\n",
       "            <td>14.44</td>\n",
       "            <td>2.48</td>\n",
       "        </tr>\n",
       "    </tbody>\n",
       "</table>\n",
       "<span style='font-style:italic;font-size:11px'><code>ResultSet</code> : to convert to pandas, call <a href='https://jupysql.ploomber.io/en/latest/integrations/pandas.html'><code>.DataFrame()</code></a> or to polars, call <a href='https://jupysql.ploomber.io/en/latest/integrations/polars.html'><code>.PolarsDataFrame()</code></a></span><br>\n",
       "<span style=\"font-style:italic;text-align:center;\">Truncated to displaylimit of 1</span><br><span style=\"font-style:italic;text-align:center;\">If you want to see more, please visit <a href=\"https://jupysql.ploomber.io/en/latest/api/configuration.html#displaylimit\">displaylimit</a> configuration</span>"
      ],
      "text/plain": [
       "+--------+--------+--------+\n",
       "|  name  | rating | change |\n",
       "+--------+--------+--------+\n",
       "| Python | 14.44  |  2.48  |\n",
       "+--------+--------+--------+"
      ]
     },
     "execution_count": 22,
     "metadata": {},
     "output_type": "execute_result"
    }
   ],
   "source": [
    "%config SqlMagic.displaylimit = 1\n",
    "res = %sql SELECT * FROM languages\n",
    "res"
   ]
  },
  {
   "cell_type": "code",
   "execution_count": 23,
   "id": "a40803f4-381f-4a14-8812-0147c5a1345e",
   "metadata": {
    "execution": {
     "iopub.execute_input": "2023-08-11T18:59:48.883999Z",
     "iopub.status.busy": "2023-08-11T18:59:48.883328Z",
     "iopub.status.idle": "2023-08-11T18:59:48.889446Z",
     "shell.execute_reply": "2023-08-11T18:59:48.888434Z",
     "shell.execute_reply.started": "2023-08-11T18:59:48.883970Z"
    }
   },
   "outputs": [
    {
     "data": {
      "text/plain": [
       "4"
      ]
     },
     "execution_count": 23,
     "metadata": {},
     "output_type": "execute_result"
    }
   ],
   "source": [
    "len(res)"
   ]
  },
  {
   "cell_type": "code",
   "execution_count": 19,
   "id": "d1020d2d-1d91-4e2d-8807-4205ff649568",
   "metadata": {
    "execution": {
     "iopub.execute_input": "2023-08-11T18:59:32.896839Z",
     "iopub.status.busy": "2023-08-11T18:59:32.894387Z",
     "iopub.status.idle": "2023-08-11T18:59:33.651275Z",
     "shell.execute_reply": "2023-08-11T18:59:33.649444Z",
     "shell.execute_reply.started": "2023-08-11T18:59:32.896765Z"
    }
   },
   "outputs": [
    {
     "data": {
      "text/html": [
       "<table>\n",
       "    <thead>\n",
       "        <tr>\n",
       "            <th>name</th>\n",
       "            <th>rating</th>\n",
       "            <th>change</th>\n",
       "        </tr>\n",
       "    </thead>\n",
       "    <tbody>\n",
       "        <tr>\n",
       "            <td>Python</td>\n",
       "            <td>14.44</td>\n",
       "            <td>2.48</td>\n",
       "        </tr>\n",
       "    </tbody>\n",
       "</table>\n",
       "<span style='font-style:italic;font-size:11px'><code>ResultSet</code> : to convert to pandas, call <a href='https://jupysql.ploomber.io/en/latest/integrations/pandas.html'><code>.DataFrame()</code></a> or to polars, call <a href='https://jupysql.ploomber.io/en/latest/integrations/polars.html'><code>.PolarsDataFrame()</code></a></span><br>\n",
       "<span style=\"font-style:italic;text-align:center;\">Truncated to displaylimit of 1</span><br><span style=\"font-style:italic;text-align:center;\">If you want to see more, please visit <a href=\"https://jupysql.ploomber.io/en/latest/api/configuration.html#displaylimit\">displaylimit</a> configuration</span>"
      ],
      "text/plain": [
       "+--------+--------+--------+\n",
       "|  name  | rating | change |\n",
       "+--------+--------+--------+\n",
       "| Python | 14.44  |  2.48  |\n",
       "+--------+--------+--------+"
      ]
     },
     "execution_count": 19,
     "metadata": {},
     "output_type": "execute_result"
    }
   ],
   "source": [
    "%config SqlMagic.column_local_vars = False\n",
    "%sql SELECT * FROM languages LIMIT 2"
   ]
  },
  {
   "cell_type": "code",
   "execution_count": 20,
   "id": "d605aebc-fcfa-46ac-951e-37aef569f889",
   "metadata": {
    "execution": {
     "iopub.execute_input": "2023-08-11T18:59:39.203543Z",
     "iopub.status.busy": "2023-08-11T18:59:39.203114Z",
     "iopub.status.idle": "2023-08-11T18:59:39.207487Z",
     "shell.execute_reply": "2023-08-11T18:59:39.206653Z",
     "shell.execute_reply.started": "2023-08-11T18:59:39.203515Z"
    }
   },
   "outputs": [
    {
     "name": "stdout",
     "output_type": "stream",
     "text": [
      "('Python', 'C', 'Java', 'C++')\n"
     ]
    }
   ],
   "source": [
    "print(name)"
   ]
  },
  {
   "cell_type": "code",
   "execution_count": 24,
   "id": "35a1fde1-43ef-4d86-ae22-e36658ffb37f",
   "metadata": {
    "execution": {
     "iopub.execute_input": "2023-08-11T19:00:42.284688Z",
     "iopub.status.busy": "2023-08-11T19:00:42.282711Z",
     "iopub.status.idle": "2023-08-11T19:00:42.301378Z",
     "shell.execute_reply": "2023-08-11T19:00:42.300283Z",
     "shell.execute_reply.started": "2023-08-11T19:00:42.284650Z"
    }
   },
   "outputs": [
    {
     "name": "stdout",
     "output_type": "stream",
     "text": [
      "('Python', 'C', 'Java', 'C++')\n",
      "(14.44, 13.13, 11.59, 10.0)\n"
     ]
    }
   ],
   "source": [
    "print(name)\n",
    "print(rating)"
   ]
  },
  {
   "cell_type": "code",
   "execution_count": null,
   "id": "b9f4e104-8429-4eac-a774-8bc3b742ad3d",
   "metadata": {},
   "outputs": [],
   "source": []
  }
 ],
 "metadata": {
  "kernelspec": {
   "display_name": "Python 3 (ipykernel)",
   "language": "python",
   "name": "python3"
  },
  "language_info": {
   "codemirror_mode": {
    "name": "ipython",
    "version": 3
   },
   "file_extension": ".py",
   "mimetype": "text/x-python",
   "name": "python",
   "nbconvert_exporter": "python",
   "pygments_lexer": "ipython3",
   "version": "3.10.12"
  }
 },
 "nbformat": 4,
 "nbformat_minor": 5
}
