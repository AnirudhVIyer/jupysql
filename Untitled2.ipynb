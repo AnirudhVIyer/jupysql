{
 "cells": [
  {
   "cell_type": "code",
   "execution_count": 1,
   "id": "a83c27e1-80ab-451a-804f-3cd2b4bf850e",
   "metadata": {
    "execution": {
     "iopub.execute_input": "2023-07-20T17:51:38.160129Z",
     "iopub.status.busy": "2023-07-20T17:51:38.159696Z",
     "iopub.status.idle": "2023-07-20T17:51:39.899409Z",
     "shell.execute_reply": "2023-07-20T17:51:39.898890Z",
     "shell.execute_reply.started": "2023-07-20T17:51:38.160102Z"
    }
   },
   "outputs": [],
   "source": [
    "%load_ext sql\n",
    "%sql sqlite://"
   ]
  },
  {
   "cell_type": "code",
   "execution_count": 2,
   "id": "8391ac29-7186-44ec-9803-c6e3d6efdc89",
   "metadata": {
    "execution": {
     "iopub.execute_input": "2023-07-20T17:51:46.351470Z",
     "iopub.status.busy": "2023-07-20T17:51:46.350908Z",
     "iopub.status.idle": "2023-07-20T17:51:46.369216Z",
     "shell.execute_reply": "2023-07-20T17:51:46.368543Z",
     "shell.execute_reply.started": "2023-07-20T17:51:46.351445Z"
    }
   },
   "outputs": [
    {
     "data": {
      "text/plain": [
       "\"select * from people where country = 'usa'\""
      ]
     },
     "execution_count": 2,
     "metadata": {},
     "output_type": "execute_result"
    }
   ],
   "source": [
    "%sqlcmd snippets citizen"
   ]
  },
  {
   "cell_type": "code",
   "execution_count": null,
   "id": "b71a38aa-b613-4c7b-8a88-d13ca978d143",
   "metadata": {},
   "outputs": [],
   "source": []
  }
 ],
 "metadata": {
  "kernelspec": {
   "display_name": "Python 3 (ipykernel)",
   "language": "python",
   "name": "python3"
  },
  "language_info": {
   "codemirror_mode": {
    "name": "ipython",
    "version": 3
   },
   "file_extension": ".py",
   "mimetype": "text/x-python",
   "name": "python",
   "nbconvert_exporter": "python",
   "pygments_lexer": "ipython3",
   "version": "3.10.12"
  }
 },
 "nbformat": 4,
 "nbformat_minor": 5
}
