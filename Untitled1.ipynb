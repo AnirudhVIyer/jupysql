{
 "cells": [
  {
   "cell_type": "code",
   "execution_count": 1,
   "id": "21909138-a401-4e38-9d01-ea3fa69466e9",
   "metadata": {
    "execution": {
     "iopub.execute_input": "2023-07-20T15:58:17.521459Z",
     "iopub.status.busy": "2023-07-20T15:58:17.521008Z",
     "iopub.status.idle": "2023-07-20T15:58:18.782257Z",
     "shell.execute_reply": "2023-07-20T15:58:18.781624Z",
     "shell.execute_reply.started": "2023-07-20T15:58:17.521423Z"
    }
   },
   "outputs": [
    {
     "name": "stdout",
     "output_type": "stream",
     "text": [
      "<class 'sql.store.SQLStore'>\n"
     ]
    }
   ],
   "source": [
    "%load_ext sql"
   ]
  },
  {
   "cell_type": "code",
   "execution_count": 2,
   "id": "e7a6296a-7846-4afc-8d25-1f23575d437f",
   "metadata": {
    "execution": {
     "iopub.execute_input": "2023-07-20T15:58:18.784357Z",
     "iopub.status.busy": "2023-07-20T15:58:18.783725Z",
     "iopub.status.idle": "2023-07-20T15:58:19.233868Z",
     "shell.execute_reply": "2023-07-20T15:58:19.233321Z",
     "shell.execute_reply.started": "2023-07-20T15:58:18.784332Z"
    }
   },
   "outputs": [],
   "source": [
    "%sql sqlite://"
   ]
  },
  {
   "cell_type": "code",
   "execution_count": 3,
   "id": "d3bced13-83b4-4dfd-bc4c-8ddb3d32fc0d",
   "metadata": {
    "execution": {
     "iopub.execute_input": "2023-07-20T15:58:19.234874Z",
     "iopub.status.busy": "2023-07-20T15:58:19.234687Z",
     "iopub.status.idle": "2023-07-20T15:58:19.678996Z",
     "shell.execute_reply": "2023-07-20T15:58:19.678539Z",
     "shell.execute_reply.started": "2023-07-20T15:58:19.234855Z"
    }
   },
   "outputs": [
    {
     "data": {
      "text/html": [
       "<span style=\"None\">Running query in &#x27;sqlite://&#x27;</span>"
      ],
      "text/plain": [
       "Running query in 'sqlite://'"
      ]
     },
     "metadata": {},
     "output_type": "display_data"
    },
    {
     "data": {
      "text/html": [
       "<span style=\"color: green\">1 rows affected.</span>"
      ],
      "text/plain": [
       "1 rows affected."
      ]
     },
     "metadata": {},
     "output_type": "display_data"
    },
    {
     "data": {
      "text/html": [
       "<span style=\"color: green\">1 rows affected.</span>"
      ],
      "text/plain": [
       "1 rows affected."
      ]
     },
     "metadata": {},
     "output_type": "display_data"
    },
    {
     "data": {
      "text/html": [
       "<span style=\"color: green\">1 rows affected.</span>"
      ],
      "text/plain": [
       "1 rows affected."
      ]
     },
     "metadata": {},
     "output_type": "display_data"
    },
    {
     "data": {
      "text/html": [
       "<span style=\"color: green\">1 rows affected.</span>"
      ],
      "text/plain": [
       "1 rows affected."
      ]
     },
     "metadata": {},
     "output_type": "display_data"
    },
    {
     "data": {
      "text/html": [
       "<table>\n",
       "    <thead>\n",
       "        <tr>\n",
       "        </tr>\n",
       "    </thead>\n",
       "    <tbody>\n",
       "    </tbody>\n",
       "</table>\n",
       "<span style='font-style:italic;font-size:11px'><code>ResultSet</code> : to convert to pandas, call <a href='https://jupysql.ploomber.io/en/latest/integrations/pandas.html'><code>.DataFrame()</code></a> or to polars, call <a href='https://jupysql.ploomber.io/en/latest/integrations/polars.html'><code>.PolarsDataFrame()</code></a></span><br>"
      ],
      "text/plain": [
       "++\n",
       "||\n",
       "++\n",
       "++"
      ]
     },
     "execution_count": 3,
     "metadata": {},
     "output_type": "execute_result"
    }
   ],
   "source": [
    "%%sql\n",
    "CREATE TABLE languages (name, rating, change);\n",
    "INSERT INTO languages VALUES ('Python', 14.44, 2.48);\n",
    "INSERT INTO languages VALUES ('C', 13.13, 1.50);\n",
    "INSERT INTO languages VALUES ('Java', 11.59, 0.40);\n",
    "INSERT INTO languages VALUES ('C++', 10.00, 1.98);"
   ]
  },
  {
   "cell_type": "code",
   "execution_count": 4,
   "id": "3b0c5d3d-1b75-449a-b707-fde48dbbb635",
   "metadata": {
    "execution": {
     "iopub.execute_input": "2023-07-20T15:57:05.388274Z",
     "iopub.status.busy": "2023-07-20T15:57:05.388139Z",
     "iopub.status.idle": "2023-07-20T15:57:05.397902Z",
     "shell.execute_reply": "2023-07-20T15:57:05.396713Z",
     "shell.execute_reply.started": "2023-07-20T15:57:05.388260Z"
    }
   },
   "outputs": [],
   "source": [
    "%config SqlMagic.persist_snippets = True"
   ]
  },
  {
   "cell_type": "code",
   "execution_count": 5,
   "id": "137945a9-8219-4f69-9c68-2311196ac32e",
   "metadata": {
    "execution": {
     "iopub.execute_input": "2023-07-20T15:57:05.401065Z",
     "iopub.status.busy": "2023-07-20T15:57:05.399546Z",
     "iopub.status.idle": "2023-07-20T15:57:05.808856Z",
     "shell.execute_reply": "2023-07-20T15:57:05.808287Z",
     "shell.execute_reply.started": "2023-07-20T15:57:05.400941Z"
    }
   },
   "outputs": [
    {
     "data": {
      "text/html": [
       "<span style=\"None\">Running query in &#x27;sqlite://&#x27;</span>"
      ],
      "text/plain": [
       "Running query in 'sqlite://'"
      ]
     },
     "metadata": {},
     "output_type": "display_data"
    },
    {
     "data": {
      "text/html": [
       "<div style=\"border: 2px solid #e8e8e8; padding: 10px; margin: 5px 0; background-color: #f7f7f7; font-family: Arial, sans-serif;\"><strong>Note:</strong> Manual editing of .sql files may not be reflected when reopening the notebook. <br>Please edit snippets directly in the notebook to ensure consistency.</div>"
      ],
      "text/plain": [
       "<IPython.core.display.HTML object>"
      ]
     },
     "metadata": {},
     "output_type": "display_data"
    },
    {
     "data": {
      "text/html": [
       "<table>\n",
       "    <thead>\n",
       "        <tr>\n",
       "            <th>name</th>\n",
       "            <th>rating</th>\n",
       "            <th>change</th>\n",
       "        </tr>\n",
       "    </thead>\n",
       "    <tbody>\n",
       "        <tr>\n",
       "            <td>Python</td>\n",
       "            <td>14.44</td>\n",
       "            <td>2.48</td>\n",
       "        </tr>\n",
       "        <tr>\n",
       "            <td>C</td>\n",
       "            <td>13.13</td>\n",
       "            <td>1.5</td>\n",
       "        </tr>\n",
       "        <tr>\n",
       "            <td>Java</td>\n",
       "            <td>11.59</td>\n",
       "            <td>0.4</td>\n",
       "        </tr>\n",
       "    </tbody>\n",
       "</table>\n",
       "<span style='font-style:italic;font-size:11px'><code>ResultSet</code> : to convert to pandas, call <a href='https://jupysql.ploomber.io/en/latest/integrations/pandas.html'><code>.DataFrame()</code></a> or to polars, call <a href='https://jupysql.ploomber.io/en/latest/integrations/polars.html'><code>.PolarsDataFrame()</code></a></span><br>"
      ],
      "text/plain": [
       "+--------+--------+--------+\n",
       "|  name  | rating | change |\n",
       "+--------+--------+--------+\n",
       "| Python | 14.44  |  2.48  |\n",
       "|   C    | 13.13  |  1.5   |\n",
       "|  Java  | 11.59  |  0.4   |\n",
       "+--------+--------+--------+"
      ]
     },
     "execution_count": 5,
     "metadata": {},
     "output_type": "execute_result"
    }
   ],
   "source": [
    "%%sql --save rated_high\n",
    "select * from languages where rating > 10.5"
   ]
  },
  {
   "cell_type": "code",
   "execution_count": 4,
   "id": "ae65f2c0-5d2c-4a18-bcae-88f1e3acd1ba",
   "metadata": {
    "execution": {
     "iopub.execute_input": "2023-07-20T15:57:58.092087Z",
     "iopub.status.busy": "2023-07-20T15:57:58.091819Z",
     "iopub.status.idle": "2023-07-20T15:57:58.097022Z",
     "shell.execute_reply": "2023-07-20T15:57:58.096514Z",
     "shell.execute_reply.started": "2023-07-20T15:57:58.092065Z"
    }
   },
   "outputs": [
    {
     "data": {
      "text/html": [
       "\n",
       "<table>\n",
       "    <thead>\n",
       "        <tr>\n",
       "            <th>Stored snippets</th>\n",
       "        </tr>\n",
       "    </thead>\n",
       "    <tbody>\n",
       "        <tr>\n",
       "            <td>rated_high</td>\n",
       "        </tr>\n",
       "    </tbody>\n",
       "</table>"
      ],
      "text/plain": [
       "\n",
       "+-----------------+\n",
       "| Stored snippets |\n",
       "+-----------------+\n",
       "|    rated_high   |\n",
       "+-----------------+"
      ]
     },
     "execution_count": 4,
     "metadata": {},
     "output_type": "execute_result"
    }
   ],
   "source": [
    "%sqlcmd snippets"
   ]
  },
  {
   "cell_type": "code",
   "execution_count": null,
   "id": "2a7328fb-3cc8-42b2-b341-41dfe68b71d6",
   "metadata": {},
   "outputs": [],
   "source": []
  }
 ],
 "metadata": {
  "kernelspec": {
   "display_name": "Python 3 (ipykernel)",
   "language": "python",
   "name": "python3"
  },
  "language_info": {
   "codemirror_mode": {
    "name": "ipython",
    "version": 3
   },
   "file_extension": ".py",
   "mimetype": "text/x-python",
   "name": "python",
   "nbconvert_exporter": "python",
   "pygments_lexer": "ipython3",
   "version": "3.10.12"
  }
 },
 "nbformat": 4,
 "nbformat_minor": 5
}
