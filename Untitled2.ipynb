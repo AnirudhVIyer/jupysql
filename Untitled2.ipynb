{
 "cells": [
  {
   "cell_type": "code",
   "execution_count": 1,
   "id": "a83c27e1-80ab-451a-804f-3cd2b4bf850e",
   "metadata": {
    "execution": {
     "iopub.execute_input": "2023-07-20T17:51:38.160129Z",
     "iopub.status.busy": "2023-07-20T17:51:38.159696Z",
     "iopub.status.idle": "2023-07-20T17:51:39.899409Z",
     "shell.execute_reply": "2023-07-20T17:51:39.898890Z",
     "shell.execute_reply.started": "2023-07-20T17:51:38.160102Z"
    }
   },
   "outputs": [],
   "source": [
    "%load_ext sql\n",
    "%sql sqlite://"
   ]
  },
  {
   "cell_type": "code",
   "execution_count": 2,
   "id": "8391ac29-7186-44ec-9803-c6e3d6efdc89",
   "metadata": {
    "execution": {
     "iopub.execute_input": "2023-07-20T17:51:46.351470Z",
     "iopub.status.busy": "2023-07-20T17:51:46.350908Z",
     "iopub.status.idle": "2023-07-20T17:51:46.369216Z",
     "shell.execute_reply": "2023-07-20T17:51:46.368543Z",
     "shell.execute_reply.started": "2023-07-20T17:51:46.351445Z"
    }
   },
   "outputs": [
    {
     "data": {
      "text/plain": [
       "\"select * from people where country = 'usa'\""
      ]
     },
     "execution_count": 2,
     "metadata": {},
     "output_type": "execute_result"
    }
   ],
   "source": [
    "%sqlcmd snippets citizen"
   ]
  },
  {
   "cell_type": "code",
   "execution_count": 3,
   "id": "b71a38aa-b613-4c7b-8a88-d13ca978d143",
   "metadata": {
    "execution": {
     "iopub.execute_input": "2023-07-20T19:26:29.270302Z",
     "iopub.status.busy": "2023-07-20T19:26:29.267136Z",
     "iopub.status.idle": "2023-07-20T19:26:29.351837Z",
     "shell.execute_reply": "2023-07-20T19:26:29.351500Z",
     "shell.execute_reply.started": "2023-07-20T19:26:29.268964Z"
    }
   },
   "outputs": [
    {
     "name": "stdout",
     "output_type": "stream",
     "text": [
      "SqlMagic(Magics, Configurable) options\n",
      "------------------------------------\n",
      "SqlMagic.autocommit=<Bool>\n",
      "    Set autocommit mode\n",
      "    Current: True\n",
      "SqlMagic.autolimit=<Int>\n",
      "    Automatically limit the size of the returned result sets\n",
      "    Current: 0\n",
      "SqlMagic.autopandas=<Bool>\n",
      "    Return Pandas DataFrames instead of regular result sets\n",
      "    Current: False\n",
      "SqlMagic.autopolars=<Bool>\n",
      "    Return Polars DataFrames instead of regular result sets\n",
      "    Current: False\n",
      "SqlMagic.column_local_vars=<Bool>\n",
      "    Return data into local variables from column names\n",
      "    Current: False\n",
      "SqlMagic.displaycon=<Bool>\n",
      "    Show connection string after execution\n",
      "    Current: True\n",
      "SqlMagic.displaylimit=<Int>\n",
      "    Automatically limit the number of rows displayed (full result set is still\n",
      "    stored)\n",
      "    Current: 10\n",
      "SqlMagic.dsn_filename=<Unicode>\n",
      "    Path to DSN file. When the first argument is of the form [section], a\n",
      "    sqlalchemy connection string is formed from the matching section in the DSN\n",
      "    file.\n",
      "    Current: 'odbc.ini'\n",
      "SqlMagic.feedback=<Bool>\n",
      "    Print number of rows affected by DML\n",
      "    Current: True\n",
      "SqlMagic.persist_snippets=<Bool>\n",
      "    Save snippet as a SQL file\n",
      "    Current: False\n",
      "SqlMagic.polars_dataframe_kwargs=<key-1>=<value-1>...\n",
      "    Polars DataFrame constructor keyword arguments(e.g. infer_schema_length,\n",
      "    nan_to_null, schema_overrides, etc)\n",
      "    Current: {}\n",
      "SqlMagic.short_errors=<Bool>\n",
      "    Don't display the full traceback on SQL Programming Error\n",
      "    Current: True\n",
      "SqlMagic.style=<Unicode>\n",
      "    Set the table printing style to any of prettytable's defined styles\n",
      "    (currently DEFAULT, MSWORD_FRIENDLY, PLAIN_COLUMNS, RANDOM, SINGLE_BORDER,\n",
      "    DOUBLE_BORDER, MARKDOWN )\n",
      "    Current: 'DEFAULT'\n"
     ]
    }
   ],
   "source": [
    "%config SqlMagic"
   ]
  },
  {
   "cell_type": "code",
   "execution_count": null,
   "id": "ec1cafa1-1056-4ba4-bb2c-d54e72c63e97",
   "metadata": {},
   "outputs": [],
   "source": []
  }
 ],
 "metadata": {
  "kernelspec": {
   "display_name": "Python 3 (ipykernel)",
   "language": "python",
   "name": "python3"
  },
  "language_info": {
   "codemirror_mode": {
    "name": "ipython",
    "version": 3
   },
   "file_extension": ".py",
   "mimetype": "text/x-python",
   "name": "python",
   "nbconvert_exporter": "python",
   "pygments_lexer": "ipython3",
   "version": "3.10.12"
  }
 },
 "nbformat": 4,
 "nbformat_minor": 5
}
