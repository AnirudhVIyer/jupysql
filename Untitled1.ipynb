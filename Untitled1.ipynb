{
 "cells": [
  {
   "cell_type": "code",
   "execution_count": 1,
   "id": "9ef72633-2f21-4da8-a4f1-db2c4b16ba5b",
   "metadata": {
    "execution": {
     "iopub.execute_input": "2023-07-27T19:11:22.845619Z",
     "iopub.status.busy": "2023-07-27T19:11:22.844677Z",
     "iopub.status.idle": "2023-07-27T19:11:24.103315Z",
     "shell.execute_reply": "2023-07-27T19:11:24.102861Z",
     "shell.execute_reply.started": "2023-07-27T19:11:22.845587Z"
    }
   },
   "outputs": [],
   "source": [
    "%load_ext sql"
   ]
  },
  {
   "cell_type": "code",
   "execution_count": 2,
   "id": "6945da82-20ad-41db-891e-f2c3b005b206",
   "metadata": {
    "execution": {
     "iopub.execute_input": "2023-07-27T19:11:24.105067Z",
     "iopub.status.busy": "2023-07-27T19:11:24.104794Z",
     "iopub.status.idle": "2023-07-27T19:11:24.730474Z",
     "shell.execute_reply": "2023-07-27T19:11:24.730023Z",
     "shell.execute_reply.started": "2023-07-27T19:11:24.105050Z"
    }
   },
   "outputs": [
    {
     "data": {
      "text/html": [
       "<table>\n",
       "    <thead>\n",
       "        <tr>\n",
       "            <th>Count</th>\n",
       "        </tr>\n",
       "    </thead>\n",
       "    <tbody>\n",
       "    </tbody>\n",
       "</table>\n",
       "<span style='font-style:italic;font-size:11px'><code>ResultSet</code> : to convert to pandas, call <a href='https://jupysql.ploomber.io/en/latest/integrations/pandas.html'><code>.DataFrame()</code></a> or to polars, call <a href='https://jupysql.ploomber.io/en/latest/integrations/polars.html'><code>.PolarsDataFrame()</code></a></span><br>"
      ],
      "text/plain": [
       "+-------+\n",
       "| Count |\n",
       "+-------+\n",
       "+-------+"
      ]
     },
     "execution_count": 2,
     "metadata": {},
     "output_type": "execute_result"
    }
   ],
   "source": [
    "%%sql duckdb://\n",
    "CREATE TABLE people (name varchar(50), number int, country varchar(50));\n",
    "INSERT INTO people VALUES ('joe', 82, 'usa');\n",
    "INSERT INTO people VALUES ('paula', 93, 'uk');\n",
    "INSERT INTO people VALUES ('sam', 77, 'canada');\n",
    "INSERT INTO people VALUES ('emily', 65, 'usa');\n",
    "INSERT INTO people VALUES ('michael', 89, 'usa');\n",
    "INSERT INTO people VALUES ('sarah', 81, 'uk');\n",
    "INSERT INTO people VALUES ('james', 76, 'usa');\n",
    "INSERT INTO people VALUES ('angela', 88, 'usa');\n",
    "INSERT INTO people VALUES ('robert', 82, 'usa');\n",
    "INSERT INTO people VALUES ('lisa', 92, 'uk');\n",
    "INSERT INTO people VALUES ('mark', 77, 'usa');\n",
    "INSERT INTO people VALUES ('jennifer', 68, 'australia');"
   ]
  },
  {
   "cell_type": "code",
   "execution_count": 3,
   "id": "b378bdde-5582-4d40-8b5e-782782ca0f74",
   "metadata": {
    "execution": {
     "iopub.execute_input": "2023-07-27T19:11:24.731286Z",
     "iopub.status.busy": "2023-07-27T19:11:24.731152Z",
     "iopub.status.idle": "2023-07-27T19:11:25.255580Z",
     "shell.execute_reply": "2023-07-27T19:11:25.255057Z",
     "shell.execute_reply.started": "2023-07-27T19:11:24.731272Z"
    }
   },
   "outputs": [
    {
     "data": {
      "text/html": [
       "<span style=\"None\">Running query in &#x27;duckdb://&#x27;</span>"
      ],
      "text/plain": [
       "Running query in 'duckdb://'"
      ]
     },
     "metadata": {},
     "output_type": "display_data"
    },
    {
     "data": {
      "text/html": [
       "<table>\n",
       "    <thead>\n",
       "        <tr>\n",
       "            <th>name</th>\n",
       "            <th>number</th>\n",
       "            <th>country</th>\n",
       "        </tr>\n",
       "    </thead>\n",
       "    <tbody>\n",
       "        <tr>\n",
       "            <td>joe</td>\n",
       "            <td>82</td>\n",
       "            <td>usa</td>\n",
       "        </tr>\n",
       "        <tr>\n",
       "            <td>emily</td>\n",
       "            <td>65</td>\n",
       "            <td>usa</td>\n",
       "        </tr>\n",
       "        <tr>\n",
       "            <td>michael</td>\n",
       "            <td>89</td>\n",
       "            <td>usa</td>\n",
       "        </tr>\n",
       "        <tr>\n",
       "            <td>james</td>\n",
       "            <td>76</td>\n",
       "            <td>usa</td>\n",
       "        </tr>\n",
       "        <tr>\n",
       "            <td>angela</td>\n",
       "            <td>88</td>\n",
       "            <td>usa</td>\n",
       "        </tr>\n",
       "        <tr>\n",
       "            <td>robert</td>\n",
       "            <td>82</td>\n",
       "            <td>usa</td>\n",
       "        </tr>\n",
       "        <tr>\n",
       "            <td>mark</td>\n",
       "            <td>77</td>\n",
       "            <td>usa</td>\n",
       "        </tr>\n",
       "    </tbody>\n",
       "</table>\n",
       "<span style='font-style:italic;font-size:11px'><code>ResultSet</code> : to convert to pandas, call <a href='https://jupysql.ploomber.io/en/latest/integrations/pandas.html'><code>.DataFrame()</code></a> or to polars, call <a href='https://jupysql.ploomber.io/en/latest/integrations/polars.html'><code>.PolarsDataFrame()</code></a></span><br>"
      ],
      "text/plain": [
       "+---------+--------+---------+\n",
       "|   name  | number | country |\n",
       "+---------+--------+---------+\n",
       "|   joe   |   82   |   usa   |\n",
       "|  emily  |   65   |   usa   |\n",
       "| michael |   89   |   usa   |\n",
       "|  james  |   76   |   usa   |\n",
       "|  angela |   88   |   usa   |\n",
       "|  robert |   82   |   usa   |\n",
       "|   mark  |   77   |   usa   |\n",
       "+---------+--------+---------+"
      ]
     },
     "execution_count": 3,
     "metadata": {},
     "output_type": "execute_result"
    }
   ],
   "source": [
    "%%sql --save citizen\n",
    "select * from people where country = 'usa'"
   ]
  },
  {
   "cell_type": "code",
   "execution_count": 4,
   "id": "673539b0-0b63-4112-8e10-dc1a030c77d7",
   "metadata": {
    "execution": {
     "iopub.execute_input": "2023-07-27T19:11:25.256464Z",
     "iopub.status.busy": "2023-07-27T19:11:25.256318Z",
     "iopub.status.idle": "2023-07-27T19:11:25.995716Z",
     "shell.execute_reply": "2023-07-27T19:11:25.995078Z",
     "shell.execute_reply.started": "2023-07-27T19:11:25.256450Z"
    }
   },
   "outputs": [
    {
     "data": {
      "text/html": [
       "<div style='position: sticky; left: 0; padding: 10px; font-size: 12px; color: #FFA500'><strong></strong> </div><style>\n",
       " #profile-table td:first-child {\n",
       "  position: sticky;\n",
       "  left: 0;\n",
       "  background-color: var(--jp-cell-editor-background);\n",
       "  font-weight: bold;\n",
       "}\n",
       " #profile-table thead tr th:first-child {\n",
       "  position: sticky;\n",
       "  left: 0;\n",
       "  background-color: var(--jp-cell-editor-background);\n",
       "  font-weight: bold; /* Adding bold text */\n",
       "}\n",
       "            </style><style></style><table id=\"profile-table-5e2f00d76ff84eb8bf6ce08a3f1580cf\">\n",
       "    <thead>\n",
       "        <tr>\n",
       "            <th> </th>\n",
       "            <th>name</th>\n",
       "            <th>number</th>\n",
       "            <th>country</th>\n",
       "        </tr>\n",
       "    </thead>\n",
       "    <tbody>\n",
       "        <tr>\n",
       "            <td>count</td>\n",
       "            <td>7</td>\n",
       "            <td>7</td>\n",
       "            <td>7</td>\n",
       "        </tr>\n",
       "        <tr>\n",
       "            <td>unique</td>\n",
       "            <td>7</td>\n",
       "            <td>6</td>\n",
       "            <td>1</td>\n",
       "        </tr>\n",
       "        <tr>\n",
       "            <td>top</td>\n",
       "            <td>joe</td>\n",
       "            <td>nan</td>\n",
       "            <td>usa</td>\n",
       "        </tr>\n",
       "        <tr>\n",
       "            <td>freq</td>\n",
       "            <td>1</td>\n",
       "            <td>nan</td>\n",
       "            <td>7</td>\n",
       "        </tr>\n",
       "        <tr>\n",
       "            <td>mean</td>\n",
       "            <td>nan</td>\n",
       "            <td>79.8571</td>\n",
       "            <td>nan</td>\n",
       "        </tr>\n",
       "        <tr>\n",
       "            <td>std</td>\n",
       "            <td>nan</td>\n",
       "            <td>7.5862</td>\n",
       "            <td>nan</td>\n",
       "        </tr>\n",
       "        <tr>\n",
       "            <td>min</td>\n",
       "            <td>nan</td>\n",
       "            <td>65</td>\n",
       "            <td>nan</td>\n",
       "        </tr>\n",
       "        <tr>\n",
       "            <td>25%</td>\n",
       "            <td>nan</td>\n",
       "            <td>76.0000</td>\n",
       "            <td>nan</td>\n",
       "        </tr>\n",
       "        <tr>\n",
       "            <td>50%</td>\n",
       "            <td>nan</td>\n",
       "            <td>82.0000</td>\n",
       "            <td>nan</td>\n",
       "        </tr>\n",
       "        <tr>\n",
       "            <td>75%</td>\n",
       "            <td>nan</td>\n",
       "            <td>88.0000</td>\n",
       "            <td>nan</td>\n",
       "        </tr>\n",
       "        <tr>\n",
       "            <td>max</td>\n",
       "            <td>nan</td>\n",
       "            <td>89</td>\n",
       "            <td>nan</td>\n",
       "        </tr>\n",
       "    </tbody>\n",
       "</table><div style='position: sticky; left: 0; padding: 10px; font-size: 12px; color: black; background-color: white;'><strong></strong> </div>"
      ],
      "text/plain": [
       "+--------+------+---------+---------+\n",
       "|        | name |  number | country |\n",
       "+--------+------+---------+---------+\n",
       "| count  |  7   |    7    |    7    |\n",
       "| unique |  7   |    6    |    1    |\n",
       "|  top   | joe  |   nan   |   usa   |\n",
       "|  freq  |  1   |   nan   |    7    |\n",
       "|  mean  | nan  | 79.8571 |   nan   |\n",
       "|  std   | nan  |  7.5862 |   nan   |\n",
       "|  min   | nan  |    65   |   nan   |\n",
       "|  25%   | nan  | 76.0000 |   nan   |\n",
       "|  50%   | nan  | 82.0000 |   nan   |\n",
       "|  75%   | nan  | 88.0000 |   nan   |\n",
       "|  max   | nan  |    89   |   nan   |\n",
       "+--------+------+---------+---------+"
      ]
     },
     "execution_count": 4,
     "metadata": {},
     "output_type": "execute_result"
    }
   ],
   "source": [
    "%sqlcmd profile -t citizen"
   ]
  },
  {
   "cell_type": "code",
   "execution_count": null,
   "id": "ed34fa5b-f9ee-43d7-9442-c3c99f6041af",
   "metadata": {},
   "outputs": [],
   "source": []
  }
 ],
 "metadata": {
  "kernelspec": {
   "display_name": "Python 3 (ipykernel)",
   "language": "python",
   "name": "python3"
  },
  "language_info": {
   "codemirror_mode": {
    "name": "ipython",
    "version": 3
   },
   "file_extension": ".py",
   "mimetype": "text/x-python",
   "name": "python",
   "nbconvert_exporter": "python",
   "pygments_lexer": "ipython3",
   "version": "3.10.12"
  }
 },
 "nbformat": 4,
 "nbformat_minor": 5
}
