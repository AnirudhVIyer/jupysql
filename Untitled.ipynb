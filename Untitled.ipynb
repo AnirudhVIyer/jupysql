{
 "cells": [
  {
   "cell_type": "code",
   "execution_count": 1,
   "id": "7b760182-c52f-4686-98ab-5a52607f1e4b",
   "metadata": {
    "execution": {
     "iopub.execute_input": "2023-06-20T13:51:35.963408Z",
     "iopub.status.busy": "2023-06-20T13:51:35.963127Z",
     "iopub.status.idle": "2023-06-20T13:51:36.991519Z",
     "shell.execute_reply": "2023-06-20T13:51:36.991144Z",
     "shell.execute_reply.started": "2023-06-20T13:51:35.963374Z"
    }
   },
   "outputs": [],
   "source": [
    "%load_ext sql"
   ]
  },
  {
   "cell_type": "code",
   "execution_count": null,
   "id": "5df4acf3-e66f-4777-9d5e-36ceeb141c48",
   "metadata": {
    "execution": {
     "iopub.execute_input": "2023-06-20T13:51:36.992990Z",
     "iopub.status.busy": "2023-06-20T13:51:36.992763Z"
    }
   },
   "outputs": [
    {
     "data": {
      "text/html": [
       "<span style=\"color: green\">1 rows affected.</span>"
      ],
      "text/plain": [
       "1 rows affected."
      ]
     },
     "metadata": {},
     "output_type": "display_data"
    },
    {
     "data": {
      "text/html": [
       "<span style=\"color: green\">1 rows affected.</span>"
      ],
      "text/plain": [
       "1 rows affected."
      ]
     },
     "metadata": {},
     "output_type": "display_data"
    }
   ],
   "source": [
    "%%sql sqlite://\n",
    "\n",
    "CREATE TABLE people (\n",
    "    name varchar(50),\n",
    "    age varchar(50),\n",
    "    number int,\n",
    "    country varchar(50),\n",
    "    gender_1 varchar(50),\n",
    "    gender_2 varchar(50),\n",
    "    bul boolean\n",
    ");\n",
    "\n",
    "INSERT INTO people VALUES ('joe', '48', 82, 'usa', '0', 'male', True);\n",
    "INSERT INTO people VALUES ('paula', '50', 93, 'uk', '1', 'female', True);"
   ]
  },
  {
   "cell_type": "code",
   "execution_count": null,
   "id": "58be6481-5640-4ac4-ba89-2cee273b2bba",
   "metadata": {},
   "outputs": [],
   "source": [
    "%sqlcmd profile -t people"
   ]
  },
  {
   "cell_type": "code",
   "execution_count": null,
   "id": "70972add-cfd8-46fd-9f5c-938a6759af2c",
   "metadata": {},
   "outputs": [],
   "source": []
  }
 ],
 "metadata": {
  "kernelspec": {
   "display_name": "Python 3 (ipykernel)",
   "language": "python",
   "name": "python3"
  },
  "language_info": {
   "codemirror_mode": {
    "name": "ipython",
    "version": 3
   },
   "file_extension": ".py",
   "mimetype": "text/x-python",
   "name": "python",
   "nbconvert_exporter": "python",
   "pygments_lexer": "ipython3",
   "version": "3.10.11"
  }
 },
 "nbformat": 4,
 "nbformat_minor": 5
}
