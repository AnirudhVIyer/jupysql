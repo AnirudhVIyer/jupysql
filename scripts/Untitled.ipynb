{
 "cells": [
  {
   "cell_type": "code",
   "execution_count": 1,
   "id": "31ab796b-f8fb-4444-adc9-d95a747dcb98",
   "metadata": {
    "execution": {
     "iopub.execute_input": "2023-06-01T18:11:03.311538Z",
     "iopub.status.busy": "2023-06-01T18:11:03.311061Z",
     "iopub.status.idle": "2023-06-01T18:11:04.330882Z",
     "shell.execute_reply": "2023-06-01T18:11:04.330407Z",
     "shell.execute_reply.started": "2023-06-01T18:11:03.311515Z"
    }
   },
   "outputs": [],
   "source": [
    "%load_ext sql"
   ]
  },
  {
   "cell_type": "code",
   "execution_count": 2,
   "id": "9c206f18-58be-4d4d-8e04-337f242a63f5",
   "metadata": {
    "execution": {
     "iopub.execute_input": "2023-06-01T18:11:16.089768Z",
     "iopub.status.busy": "2023-06-01T18:11:16.079503Z",
     "iopub.status.idle": "2023-06-01T18:11:16.364535Z",
     "shell.execute_reply": "2023-06-01T18:11:16.364149Z",
     "shell.execute_reply.started": "2023-06-01T18:11:16.089727Z"
    }
   },
   "outputs": [],
   "source": [
    "%sql duckdb://"
   ]
  },
  {
   "cell_type": "code",
   "execution_count": 12,
   "id": "e19c4426-3c7d-41b3-b0d2-1ab494bc4150",
   "metadata": {
    "execution": {
     "iopub.execute_input": "2023-06-01T18:13:50.829061Z",
     "iopub.status.busy": "2023-06-01T18:13:50.828594Z",
     "iopub.status.idle": "2023-06-01T18:13:50.833912Z",
     "shell.execute_reply": "2023-06-01T18:13:50.833145Z",
     "shell.execute_reply.started": "2023-06-01T18:13:50.829035Z"
    }
   },
   "outputs": [],
   "source": [
    "from pathlib import Path\n",
    "from urllib.request import urlretrieve\n",
    "\n",
    "if not Path(\"penguins.csv\").is_file():\n",
    "    urlretrieve(\n",
    "        \"https://raw.githubusercontent.com/mwaskom/seaborn-data/master/penguins.csv\",\n",
    "        \"penguins.csv\",\n",
    "    )"
   ]
  },
  {
   "cell_type": "code",
   "execution_count": 13,
   "id": "7beed702-e447-4bd8-ac89-617aab9dfad9",
   "metadata": {
    "execution": {
     "iopub.execute_input": "2023-06-01T18:13:53.427225Z",
     "iopub.status.busy": "2023-06-01T18:13:53.426763Z",
     "iopub.status.idle": "2023-06-01T18:13:53.632192Z",
     "shell.execute_reply": "2023-06-01T18:13:53.631489Z",
     "shell.execute_reply.started": "2023-06-01T18:13:53.427201Z"
    }
   },
   "outputs": [
    {
     "data": {
      "text/html": [
       "<span style=\"None\">Running query in &#x27;duckdb://&#x27;</span>"
      ],
      "text/plain": [
       "Running query in 'duckdb://'"
      ]
     },
     "metadata": {},
     "output_type": "display_data"
    },
    {
     "data": {
      "text/html": [
       "<table>\n",
       "    <thead>\n",
       "        <tr>\n",
       "            <th>species</th>\n",
       "            <th>island</th>\n",
       "            <th>bill_length_mm</th>\n",
       "            <th>bill_depth_mm</th>\n",
       "            <th>flipper_length_mm</th>\n",
       "            <th>body_mass_g</th>\n",
       "            <th>sex</th>\n",
       "        </tr>\n",
       "    </thead>\n",
       "    <tbody>\n",
       "        <tr>\n",
       "            <td>Adelie</td>\n",
       "            <td>Torgersen</td>\n",
       "            <td>39.1</td>\n",
       "            <td>18.7</td>\n",
       "            <td>181</td>\n",
       "            <td>3750</td>\n",
       "            <td>MALE</td>\n",
       "        </tr>\n",
       "        <tr>\n",
       "            <td>Adelie</td>\n",
       "            <td>Torgersen</td>\n",
       "            <td>39.5</td>\n",
       "            <td>17.4</td>\n",
       "            <td>186</td>\n",
       "            <td>3800</td>\n",
       "            <td>FEMALE</td>\n",
       "        </tr>\n",
       "        <tr>\n",
       "            <td>Adelie</td>\n",
       "            <td>Torgersen</td>\n",
       "            <td>40.3</td>\n",
       "            <td>18.0</td>\n",
       "            <td>195</td>\n",
       "            <td>3250</td>\n",
       "            <td>FEMALE</td>\n",
       "        </tr>\n",
       "    </tbody>\n",
       "</table>"
      ],
      "text/plain": [
       "+---------+-----------+----------------+---------------+-------------------+-------------+--------+\n",
       "| species |   island  | bill_length_mm | bill_depth_mm | flipper_length_mm | body_mass_g |  sex   |\n",
       "+---------+-----------+----------------+---------------+-------------------+-------------+--------+\n",
       "|  Adelie | Torgersen |      39.1      |      18.7     |        181        |     3750    |  MALE  |\n",
       "|  Adelie | Torgersen |      39.5      |      17.4     |        186        |     3800    | FEMALE |\n",
       "|  Adelie | Torgersen |      40.3      |      18.0     |        195        |     3250    | FEMALE |\n",
       "+---------+-----------+----------------+---------------+-------------------+-------------+--------+"
      ]
     },
     "execution_count": 13,
     "metadata": {},
     "output_type": "execute_result"
    }
   ],
   "source": [
    "%%sql\n",
    "SELECT * FROM \"penguins.csv\" LIMIT 3"
   ]
  },
  {
   "cell_type": "code",
   "execution_count": 5,
   "id": "d047a08f-a0b1-47c7-bceb-6285b66922c4",
   "metadata": {
    "execution": {
     "iopub.execute_input": "2023-06-01T18:12:08.430601Z",
     "iopub.status.busy": "2023-06-01T18:12:08.429994Z",
     "iopub.status.idle": "2023-06-01T18:12:08.619865Z",
     "shell.execute_reply": "2023-06-01T18:12:08.619492Z",
     "shell.execute_reply.started": "2023-06-01T18:12:08.430576Z"
    }
   },
   "outputs": [
    {
     "data": {
      "text/html": [
       "<span style=\"None\">Running query in &#x27;duckdb://&#x27;</span>"
      ],
      "text/plain": [
       "Running query in 'duckdb://'"
      ]
     },
     "metadata": {},
     "output_type": "display_data"
    },
    {
     "data": {
      "text/html": [
       "<span style=\"None\">Skipping execution...</span>"
      ],
      "text/plain": [
       "Skipping execution..."
      ]
     },
     "metadata": {},
     "output_type": "display_data"
    }
   ],
   "source": [
    "%%sql --save no_nulls --no-execute\n",
    "SELECT *\n",
    "FROM penguins.csv\n",
    "WHERE body_mass_g IS NOT NULL"
   ]
  },
  {
   "cell_type": "code",
   "execution_count": 6,
   "id": "6ce68eb3-cbc2-445a-b50a-5a105d5f5d89",
   "metadata": {
    "execution": {
     "iopub.execute_input": "2023-06-01T18:12:21.424262Z",
     "iopub.status.busy": "2023-06-01T18:12:21.423713Z",
     "iopub.status.idle": "2023-06-01T18:12:21.772731Z",
     "shell.execute_reply": "2023-06-01T18:12:21.772104Z",
     "shell.execute_reply.started": "2023-06-01T18:12:21.424231Z"
    }
   },
   "outputs": [
    {
     "data": {
      "text/plain": [
       "<Axes: title={'center': \"'body_mass_g' from 'no_nulls'\"}, xlabel='body_mass_g', ylabel='Count'>"
      ]
     },
     "execution_count": 6,
     "metadata": {},
     "output_type": "execute_result"
    },
    {
     "data": {
      "image/png": "[encoded data removed]",
      "text/plain": [
       "<Figure size 640x480 with 1 Axes>"
      ]
     },
     "metadata": {},
     "output_type": "display_data"
    }
   ],
   "source": [
    "%sqlplot histogram --table no_nulls --column body_mass_g --with no_nulls"
   ]
  },
  {
   "cell_type": "code",
   "execution_count": 7,
   "id": "1c881d6c-8d57-4f27-8118-969231653882",
   "metadata": {
    "execution": {
     "iopub.execute_input": "2023-06-01T18:12:35.630330Z",
     "iopub.status.busy": "2023-06-01T18:12:35.629858Z",
     "iopub.status.idle": "2023-06-01T18:12:35.637623Z",
     "shell.execute_reply": "2023-06-01T18:12:35.636832Z",
     "shell.execute_reply.started": "2023-06-01T18:12:35.630303Z"
    }
   },
   "outputs": [],
   "source": [
    "from pathlib import Path\n",
    "from urllib.request import urlretrieve\n",
    "\n",
    "if not Path(\"penguins.csv\").is_file():\n",
    "    urlretrieve(\n",
    "        \"https://raw.githubusercontent.com/mwaskom/seaborn-data/master/penguins.csv\",\n",
    "        \"penguins.csv\",\n",
    "    )"
   ]
  },
  {
   "cell_type": "code",
   "execution_count": 14,
   "id": "eb026db7-4a5c-4f3b-bbaa-2a431304ffb0",
   "metadata": {
    "execution": {
     "iopub.execute_input": "2023-06-01T18:14:12.058840Z",
     "iopub.status.busy": "2023-06-01T18:14:12.058415Z",
     "iopub.status.idle": "2023-06-01T18:14:12.295512Z",
     "shell.execute_reply": "2023-06-01T18:14:12.294839Z",
     "shell.execute_reply.started": "2023-06-01T18:14:12.058813Z"
    }
   },
   "outputs": [
    {
     "data": {
      "text/html": [
       "<span style=\"None\">Running query in &#x27;duckdb://&#x27;</span>"
      ],
      "text/plain": [
       "Running query in 'duckdb://'"
      ]
     },
     "metadata": {},
     "output_type": "display_data"
    },
    {
     "data": {
      "text/html": [
       "<span style=\"None\">Skipping execution...</span>"
      ],
      "text/plain": [
       "Skipping execution..."
      ]
     },
     "metadata": {},
     "output_type": "display_data"
    }
   ],
   "source": [
    "%%sql --save with_nulls --no-execute\n",
    "SELECT *\n",
    "FROM penguins.csv"
   ]
  },
  {
   "cell_type": "code",
   "execution_count": 15,
   "id": "d195430f-9ef5-4ffd-ba33-87e9e1ef360f",
   "metadata": {
    "execution": {
     "iopub.execute_input": "2023-06-01T18:14:17.823393Z",
     "iopub.status.busy": "2023-06-01T18:14:17.823006Z",
     "iopub.status.idle": "2023-06-01T18:14:18.160253Z",
     "shell.execute_reply": "2023-06-01T18:14:18.159927Z",
     "shell.execute_reply.started": "2023-06-01T18:14:17.823369Z"
    }
   },
   "outputs": [
    {
     "data": {
      "text/plain": [
       "<Axes: title={'center': \"'body_mass_g' from 'with_nulls'\"}, xlabel='body_mass_g', ylabel='Count'>"
      ]
     },
     "execution_count": 15,
     "metadata": {},
     "output_type": "execute_result"
    },
    {
     "data": {
      "image/png": "[encoded data removed]",
      "text/plain": [
       "<Figure size 640x480 with 1 Axes>"
      ]
     },
     "metadata": {},
     "output_type": "display_data"
    }
   ],
   "source": [
    "%sqlplot histogram --table with_nulls --column body_mass_g --with with_nulls"
   ]
  },
  {
   "cell_type": "code",
   "execution_count": 16,
   "id": "c9fb701b-4bcf-45ea-b16d-a917f131f401",
   "metadata": {
    "execution": {
     "iopub.execute_input": "2023-06-01T18:18:40.714118Z",
     "iopub.status.busy": "2023-06-01T18:18:40.711148Z",
     "iopub.status.idle": "2023-06-01T18:18:41.192546Z",
     "shell.execute_reply": "2023-06-01T18:18:41.192234Z",
     "shell.execute_reply.started": "2023-06-01T18:18:40.714084Z"
    }
   },
   "outputs": [
    {
     "data": {
      "text/plain": [
       "<Axes: title={'center': \"Histogram from 'with_nulls'\"}, ylabel='Count'>"
      ]
     },
     "execution_count": 16,
     "metadata": {},
     "output_type": "execute_result"
    },
    {
     "data": {
      "image/png": "[encoded data removed]",
      "text/plain": [
       "<Figure size 640x480 with 1 Axes>"
      ]
     },
     "metadata": {},
     "output_type": "display_data"
    }
   ],
   "source": [
    "%sqlplot histogram --table with_nulls --column bill_length_mm bill_depth_mm --with with_nulls"
   ]
  },
  {
   "cell_type": "code",
   "execution_count": null,
   "id": "0bfc80c3-fd16-47e3-8972-8f99440986b9",
   "metadata": {},
   "outputs": [],
   "source": []
  }
 ],
 "metadata": {
  "kernelspec": {
   "display_name": "Python 3 (ipykernel)",
   "language": "python",
   "name": "python3"
  },
  "language_info": {
   "codemirror_mode": {
    "name": "ipython",
    "version": 3
   },
   "file_extension": ".py",
   "mimetype": "text/x-python",
   "name": "python",
   "nbconvert_exporter": "python",
   "pygments_lexer": "ipython3",
   "version": "3.10.11"
  }
 },
 "nbformat": 4,
 "nbformat_minor": 5
}
